{
  "cells": [
    {
      "cell_type": "markdown",
      "metadata": {
        "id": "view-in-github",
        "colab_type": "text"
      },
      "source": [
        "<a href=\"https://colab.research.google.com/github/amrit-thapa-2044/ICIMOD_permafrost_training_2022/blob/main/world_clim_data_download_duplicate_R.ipynb\" target=\"_parent\"><img src=\"https://colab.research.google.com/assets/colab-badge.svg\" alt=\"Open In Colab\"/></a>"
      ]
    },
    {
      "cell_type": "markdown",
      "source": [
        "**<div align=\"center\"><font size=\"4\">REGIONAL TRAINING</font>**\n",
        "<div align=\"center\"><font size=\"4\">Analysing permafrost in the Hindu Kush Himalaya using open access tools</font>\n",
        "\n",
        "**<h1 align='center'>Downloading and Downscaling World Clim Mean Annual Temperature**\n",
        "\n",
        "*This notebook is prepared for the participants of the regional training on **Analysing permafrost in the Hindu Kush Himalaya using open access tools** organized by [ICIMOD](https://rds.icimod.org/)through its cryosphere initiative under the Regional Programme on River Basins and Cryosphere in collaboration with Kathmandu university and Tribhuvan University.*\n",
        "\n",
        "*The cryosphere initiative is supported by the Government of Norway and Swiss Agency for Development and Cooperation.*\n",
        "\n",
        "\n",
        "Coded by: \\\n",
        "Amrit Thapa \\\n",
        "Email: amrit.thapa@icimod.org \\\n",
        "GitHub: https://github.com/amrit-thapa-2044\n",
        "\n",
        "---\n",
        "\n"
      ],
      "metadata": {
        "id": "UlshAd-UGZeg"
      }
    },
    {
      "cell_type": "markdown",
      "metadata": {
        "id": "32nwGoMucsl5"
      },
      "source": [
        "In this exercise, we download and prepare input data that are required to model permafrost distribution. We will download the [SRTM digital model](https://lpdaac.usgs.gov/documents/179/SRTM_User_Guide_V3.pdf), project it to  [UTM projection system](https://www.youtube.com/watch?v=HnWNhyxyUHg) and download it to derive incoming solar radiation in ArcGIS. We will then download mean annual air tempertaure (MAAT) climatology from World Clim, project it to utm and downscale it using the SRTM DEM and the lapse rate derived using a focal regression method. Finally, we will download downscaled MAAT to be used in the permaforst mapping exercise."
      ]
    },
    {
      "cell_type": "markdown",
      "source": [
        "***This exercise is conducted using the [R programming language](https://cran.r-project.org/).***"
      ],
      "metadata": {
        "id": "10P6kWsdHzfG"
      }
    },
    {
      "cell_type": "markdown",
      "metadata": {
        "id": "pVsAfArSefVR"
      },
      "source": [
        "# R packages and dependencies\n",
        "\n",
        "An R package is a collection of functions that have been developed to cover specific scientific needs or methods that are not available in the R base language. They are commonly called *user libraries*. Such libraries must be installed by the user. These libraries are developed by the R community to address specific projects or scientific requirements. A *user library* may depend on functions from one or more other libraries, called *dependencies*. We can easily install packages in R using the ***install.packages*** function."
      ]
    },
    {
      "cell_type": "markdown",
      "metadata": {
        "id": "oR5xDfaqSx_l"
      },
      "source": [
        "## Install Required Packages\n",
        "This hands-on exercise requires the ***raster*** and ***rgdal*** packages. Let's install both libraries now."
      ]
    },
    {
      "cell_type": "code",
      "execution_count": null,
      "metadata": {
        "id": "psD93PZEITBJ"
      },
      "outputs": [],
      "source": [
        "# install required packages\n",
        "install.packages(c('raster','rgdal')) # may take more than 10 minutes"
      ]
    },
    {
      "cell_type": "markdown",
      "metadata": {
        "id": "uA8mww3Rb_Rf"
      },
      "source": [
        "## Load required packages"
      ]
    },
    {
      "cell_type": "markdown",
      "metadata": {
        "id": "ZA4VlcDhtgTJ"
      },
      "source": [
        "Installing libraries is not sufficient. They must be loaded in order to be used. A package in R can be loaded using the ***library*** function."
      ]
    },
    {
      "cell_type": "code",
      "execution_count": null,
      "metadata": {
        "id": "Ls3_ohWIU8UV"
      },
      "outputs": [],
      "source": [
        "# load required libraries\n",
        "library(raster)\n",
        "library(rgdal)"
      ]
    },
    {
      "cell_type": "markdown",
      "metadata": {
        "id": "KAz02RARepPo"
      },
      "source": [
        "# Define your area of interest (AOI)\n",
        "\n",
        "Each project has its own boundaries. While some studies focus on a global scale, others may focus on a regional or even a local level. To define a boundary for your research site, you can simply use a shapefile (*.shp*). However, this might not always be feasible since you might have your own research boundary. In such a case, it is best to define the extent by using longitude and latitude of the lower left (*ll*) and upper right corner (*ur*) and georeference it to use it as spatial data.\n",
        "\n",
        "\n"
      ]
    },
    {
      "cell_type": "markdown",
      "metadata": {
        "id": "9QEU07YtaqOg"
      },
      "source": [
        "## Define four corners of your area (AOI)\n",
        "\n",
        "We can define an extent in R by using the ***extent*** function from the ***raster*** package. The function takes four arguments (xmin,xmax,ymin, ymax), where ***xmin*** is the lower x limit, ***xmax*** is the upper x limit, ***ymin*** is the lower y limit, and ***ymax*** is the upper y limit. The extent should always be ordered as follows: xmin,xmax, ymin, ymax.\n",
        "\n",
        "For this exercise, we will define an extent of permafrost reserach site in Uttarakhand, India."
      ]
    },
    {
      "cell_type": "code",
      "execution_count": null,
      "metadata": {
        "id": "v3L6XKTTSJjl"
      },
      "outputs": [],
      "source": [
        "#  User defined values for extent extent\n",
        "xmin=78.07\n",
        "xmax=80.5\n",
        "ymin=29.80\n",
        "ymax=31.5"
      ]
    },
    {
      "cell_type": "markdown",
      "source": [
        "Let's form an extent using user defined values. An enlarged extent with a buffer of 1 degree is also created around the acutal extent to crop larger downloaded datasets to save time during reprojection.\n",
        "\n",
        "Additionally, the following code will also create an extended extent (buffer of 0.5 degree is taken in this exercise). This is useful as we often loose information at boundaries when we project."
      ],
      "metadata": {
        "id": "-USllA7FHXw4"
      }
    },
    {
      "cell_type": "code",
      "source": [
        "# extent\n",
        "my_ext_actual <- extent(c(xmin,xmax,ymin,ymax ))\n",
        "\n",
        "# enlarged extent to crop larger downloaded file\n",
        "ff <- 1\n",
        "my_ext_inlarge <- extent(c(xmin-ff, xmax+ff, ymin-ff, ymax+ff ))   #(xmin, xmax, ymin, ymax)\n",
        "\n",
        "# extended extent \n",
        "f <- 0.5\n",
        "my_ext <- extent(c(xmin-f, xmax+f, ymin-f, ymax+f  ))              #(xmin, xmax, ymin, ymax)\n"
      ],
      "metadata": {
        "id": "qt71G_ndHToa"
      },
      "execution_count": null,
      "outputs": []
    },
    {
      "cell_type": "markdown",
      "metadata": {
        "id": "gh7w6A3oa8xH"
      },
      "source": [
        "## Georeference your AOI\n",
        "\n",
        "We are now going to convert the extent to a spatial object. Since we have a close boundary, we will create a spatial polygon based on our extent. You can do this easily by using the ***as*** function. The longitude and latitude of our extent are defined in WGS84, so we must also define the projection in the same format.\n",
        "\n",
        "Using EPSG code, one can easily define a projection system. The epsg code of wgs84 is 4326. Similarly, epsg code of utm44n is 32644. More detail about epsg can be obtained from https://spatialreference.org/ref/epsg/."
      ]
    },
    {
      "cell_type": "code",
      "execution_count": null,
      "metadata": {
        "id": "BPNt8yp8baPp"
      },
      "outputs": [],
      "source": [
        "#@title\n",
        "# convert extent to spatial polygon\n",
        "my_ext_shp_actual <- as(my_ext_actual, 'SpatialPolygons')\n",
        "my_ext_shp <- as(my_ext, 'SpatialPolygons')\n",
        "my_ext_inlarge_shp <- as(my_ext_inlarge, 'SpatialPolygons')\n",
        "\n",
        "# define projection using epsg code\n",
        "projection(my_ext_shp)='+init=epsg:4326'\n",
        "projection(my_ext_shp_actual)='+init=epsg:4326'\n",
        "projection(my_ext_inlarge_shp)='+init=epsg:4326'\n",
        "\n",
        "# visualize extent\n",
        "plot(my_ext_inlarge_shp,axes=T,ylab='latitude',xlab='longitude',col='green')\n",
        "plot(my_ext_shp,add=T,col='red')\n",
        "plot(my_ext_shp_actual,add=T,col='blue')"
      ]
    },
    {
      "cell_type": "markdown",
      "metadata": {
        "id": "H-oWl9HIbJ4P"
      },
      "source": [
        "## Project your AOI to UTM projection\n",
        "\n",
        "In this exercise, we will use UTM projection. However, our boundary is in WGS84. Don't worry. By using the ***spTransform*** function in the ***raster*** package, we can easily change the projection of shapefiles.\n",
        "\n",
        "***spTransform*** takes two important arguments (x,CRSobj).\n",
        "- x : spatial object to be transformed\n",
        "- CRSobj: object of the class CRS\n",
        "\n"
      ]
    },
    {
      "cell_type": "code",
      "execution_count": null,
      "metadata": {
        "id": "WSETp8EGQJqW"
      },
      "outputs": [],
      "source": [
        "# change projection from WGS84 to UTM\n",
        "my_extent_in_utm <- spTransform(my_ext_shp,CRS('+init=epsg:32644'))\n",
        "my_extent_in_utm_actual <- spTransform(my_ext_shp_actual,CRS('+init=epsg:32644'))\n",
        "\n",
        "# Visualize projected polygon\n",
        "plot(my_extent_in_utm,axes=T,col='red')\n",
        "plot(my_extent_in_utm_actual,add=T,col='blue')"
      ]
    },
    {
      "cell_type": "markdown",
      "metadata": {
        "id": "V91uVMI0aa7U"
      },
      "source": [
        "# Download SRTM DEM"
      ]
    },
    {
      "cell_type": "markdown",
      "metadata": {
        "id": "oJPoPMvSe3Nn"
      },
      "source": [
        "## Download SRTM Tiles\n",
        "\n",
        "We can use ***getData*** function from the ***raster*** package to download SRTM DEM by defining longitude and latitude. \n",
        "\n",
        "SRTM DEM is available in different tiles, each with a size of 5 degree by 5 degree. We may require to download more than one tile if our area does not fall in a single tile. Let's download first tile by using any longitude and latitude inside our AOI.\n",
        "\n"
      ]
    },
    {
      "cell_type": "code",
      "execution_count": null,
      "metadata": {
        "id": "ucySM-xqxkJ2"
      },
      "outputs": [],
      "source": [
        "# downoad SRTM DEM by using my longitude and latitude\n",
        "SRTM_1 <- getData('SRTM', lon=79, lat=31)\n",
        "\n",
        "# plot output DEM\n",
        "plot(SRTM_1)\n",
        "\n",
        "# overlay our extent\n",
        "plot(my_ext,add=T)"
      ]
    },
    {
      "cell_type": "markdown",
      "metadata": {
        "id": "MpKX-2cM8l-X"
      },
      "source": [
        "In the figure above, we can see that one tile of SRTM is not sufficient to cover our study site. Let's take a new longitude and latitude and download new tiles to the right."
      ]
    },
    {
      "cell_type": "code",
      "execution_count": null,
      "metadata": {
        "id": "Yk1uaRwMnDRJ"
      },
      "outputs": [],
      "source": [
        "# download additional tile\n",
        "SRTM_2 <- getData('SRTM', lon=82, lat=31)\n",
        "\n",
        "# visualize SRTM tile\n",
        "plot(SRTM_2)\n",
        "\n",
        "# overlay  boundary\n",
        "plot(my_ext,add=T)"
      ]
    },
    {
      "cell_type": "markdown",
      "metadata": {
        "id": "Bv9rM7K29fnT"
      },
      "source": [
        "The above additional tile covers the right side of the study area. It is now necessary to cover the lower side of the study area. Let's define longitude and latitude to download tiles located on the lower side of SRTM_1."
      ]
    },
    {
      "cell_type": "code",
      "execution_count": null,
      "metadata": {
        "id": "LVocSy-nxX-K"
      },
      "outputs": [],
      "source": [
        "SRTM_3 <- getData('SRTM', lon=79, lat=29)\n",
        "\n",
        "# visualize SRTM tile\n",
        "plot(SRTM_3)\n",
        "\n",
        "# overlay  boundary\n",
        "plot(my_ext,add=T)"
      ]
    },
    {
      "cell_type": "markdown",
      "metadata": {
        "id": "J0J6yydR-B7t"
      },
      "source": [
        "The tile above covers the lower left side of our study area. Let's define a new longitude and latitude to cover the lower right side of the study site."
      ]
    },
    {
      "cell_type": "code",
      "execution_count": null,
      "metadata": {
        "id": "YZo1lT6bxG8Z"
      },
      "outputs": [],
      "source": [
        "SRTM_4 <- getData('SRTM', lon=82, lat=29)\n",
        "\n",
        "# visualize SRTM tile\n",
        "plot(SRTM_4)\n",
        "\n",
        "# overlay  boundary\n",
        "plot(my_ext,add=T)"
      ]
    },
    {
      "cell_type": "markdown",
      "metadata": {
        "id": "nw2U3jgz_YhG"
      },
      "source": [
        "## Mosaic SRTM tiles\n",
        "\n",
        "We now downloaded all SRTM tiles that are required to cover our reserach site. Now we need to combine all tiles into a single raster object. We can easily do this in R using the ***mosaic*** function.\n",
        "\n",
        "Usage\n",
        "\n",
        "*mosaic(x, y, ..., fun)*\n",
        "\n",
        "*x*: Raster object to be mosaicked\n",
        "\n",
        "*y*: Raster object to be mosaicked\n",
        "\n",
        "*...*\t: Additional rasters mosaicked\n",
        "\n",
        "*fun*: function. E.g. mean, min, or max. Must be a function that accepts a 'na.rm' argument\n",
        "\n",
        "\n",
        "\n"
      ]
    },
    {
      "cell_type": "code",
      "execution_count": null,
      "metadata": {
        "id": "bZq4YZuExymP"
      },
      "outputs": [],
      "source": [
        "# mosaic (join) all SRTM tiles\n",
        "SRTM <- mosaic(x=SRTM_1,y=SRTM_2,z=SRTM_3,a=SRTM_4,fun=mean)\n",
        "\n",
        "# get detail of mosaicked SRTM\n",
        "print(SRTM)\n",
        "\n",
        "# plot mosaiced\n",
        "plot(SRTM)\n",
        "\n",
        "# overlay boundary\n",
        "plot(my_ext,add=T,lwd=2)"
      ]
    },
    {
      "cell_type": "markdown",
      "metadata": {
        "id": "quzCHoE_fH3e"
      },
      "source": [
        "## Project and crop DEM tiles\n",
        "\n",
        "Our objective is to project the SRTM DEM to UTM (90m). Let's get started. To reduce processing time when we project, let's crop the mosaicked SRTM before projection. It is a bit time-consuming to project the entire raster.\n",
        "\n",
        "A raster can be cropped in R using the ***crop***. It takes two major arguments (x,y). *x*\tis a raster object to be cropped and *y* is the boundary to be used to crop the raster.\n"
      ]
    },
    {
      "cell_type": "code",
      "execution_count": null,
      "metadata": {
        "id": "-dHq4xp6fYcD"
      },
      "outputs": [],
      "source": [
        "# crop\n",
        "SRTM <- crop(x=SRTM,y=my_ext_inlarge)\n",
        "plot(SRTM)"
      ]
    },
    {
      "cell_type": "markdown",
      "metadata": {
        "id": "OPKCT0fIPciV"
      },
      "source": [
        "Now, we are ready to project our raster to UTM. This can be done using the ***projectRaster*** function. ***projectRaster*** takes four important arguments (*from,crs,method,res*). *from* is a raster to be projected. *crs* takes the parameters of the desired output projection, *method* is a resampling technique and *res* is the pixel size of output raster."
      ]
    },
    {
      "cell_type": "code",
      "execution_count": null,
      "metadata": {
        "id": "goXAilUdn6D5"
      },
      "outputs": [],
      "source": [
        "# project to UTM with desired resolution\n",
        "SRTM_utm_90m <- projectRaster(from=SRTM,crs='+init=epsg:32644',res=90, method='bilinear')\n",
        "\n",
        "# get detail of projected DEM\n",
        "print(SRTM_utm_90m)\n",
        "\n",
        "# display projected DEM and overlay boundary\n",
        "plot(SRTM_utm_90m)\n",
        "plot(my_extent_in_utm,add=T, border=\"red\")\n",
        "plot(my_extent_in_utm_actual,add=T, border=\"blue\")\n"
      ]
    },
    {
      "cell_type": "markdown",
      "metadata": {
        "id": "IekfcaM9QdX4"
      },
      "source": [
        "Before exporting, let's crop the projected raster using the actual extent of our study site."
      ]
    },
    {
      "cell_type": "code",
      "execution_count": null,
      "metadata": {
        "id": "j2JJeWSzjmpz"
      },
      "outputs": [],
      "source": [
        "# crop utm SRTM 90m for your extent\n",
        "srtm_90m_my_ext_utm <- crop(SRTM_utm_90m,my_extent_in_utm)\n",
        "\n",
        "# get detail about the cropped dem\n",
        "print(srtm_90m_my_ext_utm)\n",
        "\n",
        "# make plot of cropped dem\n",
        "plot(srtm_90m_my_ext_utm)\n",
        "\n",
        "# overlay extent over raster plot\n",
        "plot(my_extent_in_utm,add=T, border = 'red')\n",
        "plot(my_extent_in_utm_actual,add=T, border = 'blue')"
      ]
    },
    {
      "cell_type": "markdown",
      "metadata": {
        "id": "2JJlYZZgflUb"
      },
      "source": [
        "## Export DEM of your AOI\n",
        "Let's save the processed DEM (90m SRTM DEM projected to UTM and cropped by our extent) and download it. Raster can be exported in R by using the ***writeRaster*** function. This function takes four major arguments.\n",
        "\n",
        "*x*: raster object to be saved\n",
        "\n",
        "*filename*: desired filename of the output together with location to be saved\n",
        "\n",
        "*format*: format of output raster\n",
        "\n",
        "*overwrite*: local operation to decide whether to replace the file\n"
      ]
    },
    {
      "cell_type": "code",
      "execution_count": null,
      "metadata": {
        "id": "pkiI1qaqkPM2"
      },
      "outputs": [],
      "source": [
        "# before exporting let's crop using actual extent\n",
        "srtm_90m_my_ext_utm_actual <- crop(srtm_90m_my_ext_utm,my_extent_in_utm_actual)\n",
        "\n",
        "# export raster (90m STRM)\n",
        "writeRaster(x=srtm_90m_my_ext_utm_actual,filename='/content/SRTM_90m_my_ext_actual_utm44n.tif',fortmat='GTiff',overwrite=T)"
      ]
    },
    {
      "cell_type": "markdown",
      "metadata": {
        "id": "fNPbodb1YSoL"
      },
      "source": [
        "The output can now be downloaded by clicking the folder icon on the left side of the screen, followed by a right-click and a download."
      ]
    },
    {
      "cell_type": "markdown",
      "metadata": {
        "id": "TvljKXu9AeTT"
      },
      "source": [
        "We need a DEM of 1000m in addition to a 90m DEM for downscaling MAAT from 1000m to 90m. Let's create a 1000m DEM from 90m. This can be done by using the ***projectRaster*** function. ***projectRaster*** takes four important arguments (*from,crs,method,res*). *from* is a raster to be projected. *crs* takes the parameters of the desired output projection, *method* is a resampling technique and *res* is the pixel size of the output raster."
      ]
    },
    {
      "cell_type": "code",
      "execution_count": null,
      "metadata": {
        "id": "5wcZOZg7lN0m"
      },
      "outputs": [],
      "source": [
        "# project 90m DEM to 1000m\n",
        "srtm_1000m_my_ext_utm <- projectRaster(from=SRTM,crs='+init=epsg:32644',method='bilinear',res=1000)\n",
        "\n",
        "#crop 1000m DEM using your extent\n",
        "srtm_1000m_my_ext_utm <- crop(srtm_1000m_my_ext_utm,my_extent_in_utm)\n",
        "\n",
        "# plot cropped DEM and overlay extent\n",
        "plot(srtm_1000m_my_ext_utm)\n",
        "plot(my_extent_in_utm,add=T,border = 'red')\n",
        "plot(my_extent_in_utm_actual,add=T, border = 'blue')\n",
        "\n",
        "# crop for actual extent\n",
        "srtm_1000m_my_ext_utm_actual <- crop(srtm_1000m_my_ext_utm,my_extent_in_utm_actual)\n",
        "\n",
        "# export raster (1000m DEM)\n",
        "writeRaster(x=srtm_1000m_my_ext_utm_actual,filename='/content/SRTM_1000m_my_ext_actual_utm44n.tif',fortmat='GTiff',overwrite=T)"
      ]
    },
    {
      "cell_type": "markdown",
      "metadata": {
        "id": "v2HrRZFvfwPO"
      },
      "source": [
        "# Download and export WorldClim data "
      ]
    },
    {
      "cell_type": "markdown",
      "metadata": {
        "id": "dxOMqMmW7YfW"
      },
      "source": [
        "![image.png](data:image/png;base64,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)"
      ]
    },
    {
      "cell_type": "markdown",
      "metadata": {
        "id": "LtQ3Yhqln4ht"
      },
      "source": [
        "The use of bioclimatic variables is common in species distribution modeling and ecological modeling but also in hydrology, the cryosphere etc. Based on monthly temperature and rainfall values, these variables are calculated to create more meaningful variables. Further information can be found at https://www.worldclim.org/ ."
      ]
    },
    {
      "cell_type": "markdown",
      "metadata": {
        "id": "rLwBdGtmZU1u"
      },
      "source": [
        "## Download WorldClim data"
      ]
    },
    {
      "cell_type": "markdown",
      "metadata": {
        "id": "mBvEsSyQycxR"
      },
      "source": [
        "Using the ***getData*** function of the ***raster*** package in R, we can download WorldClim data by defining latitude and longitude. The ***getData*** function takes five arguments (*name, var, res, lon, lat*). The dataset name is provided with the *name* argument, and the variable name is provided with the *var* argument. *res* is the spatial resolution of the WorldClim data to be downloaded, and *lat*, *lon* is any point/coordinate in our interest area. The output is a raster stack with all 19 variables of the WorldClim data.\n",
        "\n",
        "**NOTE: WorldClim data has a scale factor of 10** [Temperature = 10ºC actually is 1 ºC]."
      ]
    },
    {
      "cell_type": "markdown",
      "metadata": {
        "id": "b1uPjT0FTXMh"
      },
      "source": [
        "The data is available in numerous tiles of 30 degrees by 30 degrees. If your area of interest does not fall into a single tile, you may need to download several tiles and mosaic them together."
      ]
    },
    {
      "cell_type": "markdown",
      "metadata": {
        "id": "pjqcTpPpI0yv"
      },
      "source": [
        "Let's download WorldClim variables for a longitude and latitude within the extent that we defined earlier."
      ]
    },
    {
      "cell_type": "code",
      "execution_count": null,
      "metadata": {
        "id": "fiP-x-jjIafq"
      },
      "outputs": [],
      "source": [
        "# download WorldClim tile\n",
        "r1 <- getData(\"worldclim\", var=\"bio\", res=0.5, lon=78, lat=31)\n",
        "\n",
        "# get detail of output stack\n",
        "print(r1)\n",
        "\n",
        "# only plot first layer from the stack\n",
        "plot(r1[[1]],main=names(r1)[[1]])\n",
        "\n",
        "# overlay your extent and decide whether you need to download more tiles\n",
        "plot(my_ext,add=T)"
      ]
    },
    {
      "cell_type": "markdown",
      "metadata": {
        "id": "E1LdmISrLmOg"
      },
      "source": [
        "Above figure shows that we need additional tiles towards the south to cover our AOI. Let's download tiles towards the south by defining a new longitude and latitude and overlay our extent to decide whether to download more tiles."
      ]
    },
    {
      "cell_type": "code",
      "execution_count": null,
      "metadata": {
        "id": "CSQe78zqJgJB"
      },
      "outputs": [],
      "source": [
        "# download worldclim data\n",
        "r2 <- getData(\"worldclim\", var=\"bio\", res=0.5, lon=78, lat=29)"
      ]
    },
    {
      "cell_type": "code",
      "execution_count": null,
      "metadata": {
        "id": "O0xvPAHhVYzf"
      },
      "outputs": [],
      "source": [
        "# make plot of first layer of stack\n",
        "plot(r2[[1]]/10,main='Mean annual air temperature [MAAT]')\n",
        "\n",
        "# overlay boundary\n",
        "plot(my_ext,add=T)"
      ]
    },
    {
      "cell_type": "markdown",
      "metadata": {
        "id": "McQGOqKtUiV7"
      },
      "source": [
        "Now we have all tiles that covers our extent. Let's combine all these tiles to form a single raster."
      ]
    },
    {
      "cell_type": "markdown",
      "metadata": {
        "id": "Z8a6jjT5f4jl"
      },
      "source": [
        "## Mosaic, project and crop WorldClim Data"
      ]
    },
    {
      "cell_type": "markdown",
      "metadata": {
        "id": "hakQJ4weU06i"
      },
      "source": [
        "The downloaded data set (stack) has 19 bioclimatic variables. However, we are only interested in the mean annual air temperature (MAAT), the first layer of the downloaded stack. We can extract any layer from the stack using the dollar operator ($) and the layer name. Let's pull MAAT from both downloaded stacks. Note that we already apply the scale factor (divison by 10 or a factor of 0.1) to plot realistic values of temperature rather than the raw data."
      ]
    },
    {
      "cell_type": "code",
      "execution_count": null,
      "metadata": {
        "id": "CbDZ3owoVyhJ"
      },
      "outputs": [],
      "source": [
        "# extract mean annual air temperature from first tile\n",
        "MAAT_1 <- r1$bio1_18/10\n",
        "\n",
        "# if you print the MAAT_1 object, now it will have a single layer which is mean annual temperature\n",
        "print(MAAT_1)\n",
        "\n",
        "# extract mean annual air temperature from second tile\n",
        "MAAT_2 <- r2$bio1_28/10\n",
        "\n",
        "# get detail\n",
        "print(MAAT_2)"
      ]
    },
    {
      "cell_type": "markdown",
      "metadata": {
        "id": "KURxOvxOW2XE"
      },
      "source": [
        "We can now combine the MAAT of both tiles to get one raster of our extent. A ***mosaic*** function in R can be used to create a raster object with a larger spatial extent. The function requires three arguments (*x,y,fun*). *x* and *y *are raster objects to be combined, and *FUN* is a statistical measure to compute cell values where layers overlap. To use the ***mosaic*** function, all objects must have the same origin, resolution, and coordinate reference system."
      ]
    },
    {
      "cell_type": "code",
      "execution_count": null,
      "metadata": {
        "id": "Hi7LA_NfVja-"
      },
      "outputs": [],
      "source": [
        "# combine MAAT from two tiles to to form single raster object\n",
        "MAAT=mosaic(MAAT_1,MAAT_2,fun=mean)\n",
        "\n",
        "# get detail od combined raster\n",
        "print(MAAT)\n",
        "\n",
        "# make plot of combined raster and overlay extent\n",
        "plot(MAAT,main='Mean annual air temperature')\n",
        "plot(my_ext,add=T)"
      ]
    },
    {
      "cell_type": "markdown",
      "metadata": {
        "id": "tK-XLlzY7tZr"
      },
      "source": [
        "The original projection for WorldClim data is wgs84. \n",
        "The UTM projection system will be used to downscale mean annual temperature data from world climate.\n",
        "\n",
        "Let's change the projection of MAAT to the UTM projection system and crop it to the extent we defined. By using a reference raster, one can directly perform projection and cropping. Let's do this.\n",
        "\n",
        "We use the ***projectRaster*** function which takes three important arguments (*from, to, method*).\n",
        "\n",
        "- *from* : raster object to be projected and cropped\n",
        "- *to* :  reference raster object whose parameters have to be taken to project and crop from raster\n",
        "- *method*: resampling method used to compute values of the output raster "
      ]
    },
    {
      "cell_type": "code",
      "execution_count": null,
      "metadata": {
        "id": "WbkI0E1CQ41w"
      },
      "outputs": [],
      "source": [
        "# project and crop using reference raster\n",
        "MAAT_1000m_utm_my_ext_degreeC <- projectRaster(from=MAAT,to=srtm_1000m_my_ext_utm,method='bilinear')\n",
        "\n",
        "# get detail of repr0jected and cropped raster\n",
        "MAAT_1000m_utm_my_ext_degreeC\n",
        "\n",
        "# plot and overlay extent\n",
        "plot(MAAT_1000m_utm_my_ext_degreeC)\n",
        "plot(my_extent_in_utm,add=T,border ='red')\n",
        "plot(my_extent_in_utm_actual,add=T,border = 'blue')"
      ]
    },
    {
      "cell_type": "markdown",
      "metadata": {
        "id": "Oln_FI8QgN32"
      },
      "source": [
        "## Export mean annual temperature from WorldClim"
      ]
    },
    {
      "cell_type": "markdown",
      "metadata": {
        "id": "c_x9Cs_bW5HU"
      },
      "source": [
        "It may be of interest to some of you to download projected MAAT with original spatial resolution of 1000m for your area of \n",
        "interest. The ***writeRaster*** function can be used to accomplish this. To use this function, you must provide four arguments (*x, filename, format, and overwrite*). *x* takes a raster object to export. The *filename* should include the location and name of the export. \n",
        "By specifying the *format*, the output file's format is defined. In addition, the logical argument *overwrite* is used to overwrite the output. Overwriting the same outfile multiple times after a revision is possible by using the *overwrite* argument (=TRUE).\n",
        "\n",
        "\n"
      ]
    },
    {
      "cell_type": "code",
      "execution_count": null,
      "metadata": {
        "id": "utAG5ayRWxS3"
      },
      "outputs": [],
      "source": [
        "# crop by actual extent before exporting\n",
        "MAAT_1000m_utm_my_ext_degreeC_actual <- crop(MAAT_1000m_utm_my_ext_degreeC,my_extent_in_utm_actual)\n",
        "\n",
        "# export MAAT 1000m as tif\n",
        "writeRaster(MAAT_1000m_utm_my_ext_degreeC_actual,'/content/MAAT_degreeC_1000m_my_ext_actual_utm44n.tif',format='GTiff',overwrite=TRUE)"
      ]
    },
    {
      "cell_type": "markdown",
      "metadata": {
        "id": "mRY_N1mggcx3"
      },
      "source": [
        "# Downscale 1000m MAAT to 90m\n",
        "We are now ready to downscale 1000m MAAT from WorldClim to 90m using the 90m SRTM DEM and lapse rate derived by using the focal linear regression method.\n",
        "\n",
        "Let's calculate the lapse rate using focal regression. We will use a 3*3 pixel size to find the slope here.\n"
      ]
    },
    {
      "cell_type": "markdown",
      "metadata": {
        "id": "hjpcuaZGiK7V"
      },
      "source": [
        "## Derive lapse rate\n",
        "\n",
        "A regression line was fitted between elevation raster (x,srtm_1000m_my_ext_utm) and MAAT (y, MAAT_1000m_utm_my_ext_degreeC). The slope of this regression is the lapse rate.\n",
        "\n",
        "Let's create a new raster stack object *r* with  1000m SRTM and 1000m MAAT using the ***stack*** function."
      ]
    },
    {
      "cell_type": "code",
      "execution_count": null,
      "metadata": {
        "id": "1FErmgoo13A2"
      },
      "outputs": [],
      "source": [
        "r <- stack(srtm_1000m_my_ext_utm,MAAT_1000m_utm_my_ext_degreeC)\n",
        "plot(r)"
      ]
    },
    {
      "cell_type": "markdown",
      "metadata": {
        "id": "gbbeFdNC3vZH"
      },
      "source": [
        "Now we use a 3 by 3 focal linear regression method to derive the lapse rate (slope) over the whole raster. \n",
        "MAAT is the dependent variable, and elevation is the independent variable. \n",
        "Using a 3 by 3 moving window, we fit linear regression between MAAT and elevation and generate a slope raster."
      ]
    },
    {
      "cell_type": "code",
      "execution_count": null,
      "metadata": {
        "id": "C2uCTDYN2otu"
      },
      "outputs": [],
      "source": [
        "# Focal linear regression\n",
        "w <- c(3,3) # 3x3 neighbour/group of cells\n",
        "\n",
        "# initialize lapse raster\n",
        "lapse_1_km <- r[[1]]\n",
        "\n",
        "# redefine all value as NA\n",
        "lapse_1_km[] <- NA\n",
        "\n",
        "# loop to extract 3*3 pixels values and fit regression\n",
        "for( rl in 1:nrow(r) ) { \n",
        "  # get 3 by 3 pixels values from 1000m MAAT and SRTM\n",
        "  v <- getValuesFocal(r[[1:2]], row=rl, nrows=1, ngb = w, array = FALSE)\n",
        "  fit <- rep(NA,nrow(v[[1]]))\n",
        "  for(i in 1:nrow(v[[1]]) ) {\n",
        "    # create data frame of x and y and remove NA values\n",
        "    xy <- na.omit( data.frame(x=v[[1]][i,],y=v[[2]][i,]) )\n",
        "    if( nrow(xy) > 4 ) {\n",
        "      # extract slope from linear regression model\n",
        "      fit[i] <- coefficients(lm(as.numeric(xy$y) ~ as.numeric(xy$x)))[2]\n",
        "      if(is.null(fit)) fit = 1\n",
        "    } else {\n",
        "      fit[i] <- NA \n",
        "    }\n",
        "  }\n",
        "  lapse_1_km[rl,] <- fit # store slope value in grid\n",
        "}"
      ]
    },
    {
      "cell_type": "code",
      "execution_count": null,
      "metadata": {
        "id": "22EkZBiZo3x0"
      },
      "outputs": [],
      "source": [
        "# visaulize 1000m lapse rate grid\n",
        "plot(lapse_1_km,main='1000m lapse rate')\n",
        "\n",
        "# frequency distribution of pixels value of 1000m lapse grid\n",
        "hist(lapse_1_km)"
      ]
    },
    {
      "cell_type": "markdown",
      "metadata": {
        "id": "sipTgvC8iEdr"
      },
      "source": [
        "## Project data to 90m"
      ]
    },
    {
      "cell_type": "markdown",
      "metadata": {
        "id": "H2gTkDgT7SxH"
      },
      "source": [
        "We will project MAAT and lapse rate, and SRTM 1000m grids using the bilinear interpolation technique \n",
        "to the SRTM DEM (90m). We will use the ***projectRaster*** function. \n",
        "\n",
        "As projection uses surrounding pixels, it causes a loss of information at boundaries. We avoid this problem by projecting a raster using SRTM with a larger extent than the actual one and cropping it later by the actual boundary/extent."
      ]
    },
    {
      "cell_type": "code",
      "execution_count": null,
      "metadata": {
        "id": "spDmnbHIPjJd"
      },
      "outputs": [],
      "source": [
        "# project 1000m MAAT to 90m using srtm 90m as reference raster\n",
        "MAAT_1000m_to_90_m <- projectRaster(MAAT_1000m_utm_my_ext_degreeC,srtm_90m_my_ext_utm,method='bilinear')\n",
        "MAAT_1000m_to_90_m_actual <- crop(MAAT_1000m_to_90_m,srtm_90m_my_ext_utm_actual)\n",
        "\n",
        "# project 1000m lapse rate grid to 90m using srtm 90m as reference raster\n",
        "lapse_1000m_to_90m <- projectRaster(lapse_1_km,srtm_90m_my_ext_utm,method='bilinear')\n",
        "lapse_1000m_to_90m_actual <- crop(lapse_1000m_to_90m,srtm_90m_my_ext_utm_actual)\n",
        "\n",
        "# project 1000m SRTM to 90m using srtm 90m as reference raster\n",
        "srtm_1000m_to_90m <- projectRaster(srtm_1000m_my_ext_utm,srtm_90m_my_ext_utm,method='bilinear')\n",
        "srtm_1000m_to_90m_actual <- crop(srtm_1000m_to_90m,srtm_90m_my_ext_utm_actual)\n"
      ]
    },
    {
      "cell_type": "code",
      "execution_count": null,
      "metadata": {
        "id": "dMjE2uMmpio7"
      },
      "outputs": [],
      "source": [
        "# make plot of projected MAAT, lapse and SRTM\n",
        "plot(stack(MAAT_1000m_to_90_m_actual,lapse_1000m_to_90m_actual,srtm_1000m_to_90m_actual),main=c('MAAT-1000m','lapse rate-1000m','ELevation-1000m'))"
      ]
    },
    {
      "cell_type": "markdown",
      "metadata": {
        "id": "XqEzjxzciVnR"
      },
      "source": [
        "## Downscale MAAT to 90m"
      ]
    },
    {
      "cell_type": "markdown",
      "metadata": {
        "id": "ziMoLurR7z0a"
      },
      "source": [
        "Finally, we are ready to downscale MAAT from 1000m to 90m.\n",
        "\n",
        "The elevation difference raster and the resampled lapse rate layer are multiplied. After this, the values of the grid cells are added to the mean annual temperature layer (originally a 1000m resolution grid that was then rescaled to 90m resolution) to construct the MAAT grid (90m).\n",
        "For more detail, see Baral et al. (2019; https://doi.org/10.1002/ppp.2008 )."
      ]
    },
    {
      "cell_type": "code",
      "execution_count": null,
      "metadata": {
        "id": "3BAxg_NN3_K2"
      },
      "outputs": [],
      "source": [
        "# apply formulae to downscale 1000m MAAT to 90m\n",
        "MAAT_90m_downscaled_from_1000m <- MAAT_1000m_to_90_m_actual+(lapse_1000m_to_90m_actual*(srtm_90m_my_ext_utm_actual-srtm_1000m_to_90m_actual))\n",
        "\n",
        "# get detail downscaled MAAT\n",
        "MAAT_90m_downscaled_from_1000m\n",
        "\n",
        "# make basic plot of MAAT (90m)\n",
        "plot(MAAT_90m_downscaled_from_1000m,main='downscaled MAAT')"
      ]
    },
    {
      "cell_type": "markdown",
      "metadata": {
        "id": "-0wvqXYsgvyC"
      },
      "source": [
        "## Export downscaled MAAT"
      ]
    },
    {
      "cell_type": "markdown",
      "metadata": {
        "id": "QlElu3-Tj3kN"
      },
      "source": [
        "The final step is to save the downscaled mean annual temperature to the working directory and then download it to the local system. To do this, use the **writeRaster** function. Four arguments are required to use this function (*x, filename, format, and overwrite*). *x* takes a raster object to export. The *filename* should include the location and name of the exported image. In *format*, the format of the output file is defined, and the logical argument *overwrite* is used to overwrite the output. Using the *overwrite* argument (=TRUE) is useful if you need to generate the same outfile multiple times after a revision.\n"
      ]
    },
    {
      "cell_type": "code",
      "execution_count": null,
      "metadata": {
        "id": "_s3yztWapQ_c"
      },
      "outputs": [],
      "source": [
        "# export raster (downscaled 90m MAAT)\n",
        "writeRaster(x=MAAT_90m_downscaled_from_1000m,filename='/content/MAAT_degreeC_90m_downscaled_from_1000m_utm44n.tif',fortmat='GTiff',overwrite=T)"
      ]
    },
    {
      "cell_type": "markdown",
      "metadata": {
        "id": "W6swowlmZG7f"
      },
      "source": [
        "The output can now be downloaded by clicking the folder icon on the left side of the screen, followed by a right-click and a download. You can use any GIS software that you are comfortable with to visualize the downloaded data."
      ]
    },
    {
      "cell_type": "markdown",
      "metadata": {
        "id": "_SAZSW1iPeZv"
      },
      "source": [
        "Assignment: \n",
        "- Make a map of 90m SRTM, 1000m SRTM, 1000m MAAT and downscaled 90m MAAT in any GIS software that you work with.\n",
        "-Compare 90m and 1000m products.\n",
        "- Make a copy of this script by clicking on file & save a copy in Drive and prepare data for your own extent (area)."
      ]
    },
    {
      "cell_type": "markdown",
      "metadata": {
        "id": "2z0oK2hxZOYB"
      },
      "source": [
        ": <h1 align='center'>**THANK YOU**</h1>"
      ]
    }
  ],
  "metadata": {
    "colab": {
      "collapsed_sections": [],
      "name": "world_clim_data_download_duplicate.R",
      "provenance": [],
      "toc_visible": true,
      "include_colab_link": true
    },
    "kernelspec": {
      "display_name": "R",
      "name": "ir"
    },
    "language_info": {
      "name": "R"
    }
  },
  "nbformat": 4,
  "nbformat_minor": 0
}
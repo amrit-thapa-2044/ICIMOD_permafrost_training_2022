{
  "nbformat": 4,
  "nbformat_minor": 0,
  "metadata": {
    "colab": {
      "name": "Copy of extract_MODIS_LST_4m_GEE_my_lon_lat_original.ipynb",
      "provenance": [],
      "collapsed_sections": [],
      "toc_visible": true,
      "include_colab_link": true
    },
    "kernelspec": {
      "name": "python3",
      "display_name": "Python 3"
    },
    "language_info": {
      "name": "python"
    }
  },
  "cells": [
    {
      "cell_type": "markdown",
      "metadata": {
        "id": "view-in-github",
        "colab_type": "text"
      },
      "source": [
        "<a href=\"https://colab.research.google.com/github/amrit-thapa-2044/ICIMOD_permafrost_training_2022/blob/main/Copy_of_extract_MODIS_LST_4m_GEE_my_lon_lat_original.ipynb\" target=\"_parent\"><img src=\"https://colab.research.google.com/assets/colab-badge.svg\" alt=\"Open In Colab\"/></a>"
      ]
    },
    {
      "cell_type": "markdown",
      "source": [
        "![test.jpg](data:image/jpeg;base64,/9j/4AAQSkZJRgABAQEAYABgAAD/2wBDAAMCAgMCAgMDAwMEAwMEBQgFBQQEBQoHBwYIDAoMDAsKCwsNDhIQDQ4RDgsLEBYQERMUFRUVDA8XGBYUGBIUFRT/2wBDAQMEBAUEBQkFBQkUDQsNFBQUFBQUFBQUFBQUFBQUFBQUFBQUFBQUFBQUFBQUFBQUFBQUFBQUFBQUFBQUFBQUFBT/wAARCAB2BDcDASIAAhEBAxEB/8QAHwAAAQUBAQEBAQEAAAAAAAAAAAECAwQFBgcICQoL/8QAtRAAAgEDAwIEAwUFBAQAAAF9AQIDAAQRBRIhMUEGE1FhByJxFDKBkaEII0KxwRVS0fAkM2JyggkKFhcYGRolJicoKSo0NTY3ODk6Q0RFRkdISUpTVFVWV1hZWmNkZWZnaGlqc3R1dnd4eXqDhIWGh4iJipKTlJWWl5iZmqKjpKWmp6ipqrKztLW2t7i5usLDxMXGx8jJytLT1NXW19jZ2uHi4+Tl5ufo6erx8vP09fb3+Pn6/8QAHwEAAwEBAQEBAQEBAQAAAAAAAAECAwQFBgcICQoL/8QAtREAAgECBAQDBAcFBAQAAQJ3AAECAxEEBSExBhJBUQdhcRMiMoEIFEKRobHBCSMzUvAVYnLRChYkNOEl8RcYGRomJygpKjU2Nzg5OkNERUZHSElKU1RVVldYWVpjZGVmZ2hpanN0dXZ3eHl6goOEhYaHiImKkpOUlZaXmJmaoqOkpaanqKmqsrO0tba3uLm6wsPExcbHyMnK0tPU1dbX2Nna4uPk5ebn6Onq8vP09fb3+Pn6/9oADAMBAAIRAxEAPwD9U6KKKACiiigAooooAKKKKACiiigAooooAKKKKACiiigAooooAKKKKACiiigAooooAKKKKACiiigAooooAKKKKACiiigAooooAKKKKACiiigAooooAKKKKACiiigAooooAKKKKACiiigAooooAKKKKACiiigAooooAKKKKACiiigAooooAKKKKACiiigAoopKAFooooAKKSigBaKSigBaKKKACiiigAooooAKKKKACiiigAooooAKKKKACiiigAooooAKKKKACiiigAooooAKKKKACiiigAooooAKKKKACiiigAooooAKKKKACiiigAooooAKKKKACiiigBv8NH3aWuf8T+NNJ8H29tPq14lnFcTrbxs3Qs39PenGMpO0SZSUdWdDRSZpaRQUUUUAFFFFABRRRQAUUUUAFFFFABRRRQAUUUUAFFJS0AFFFFABRRRQAUUUUAFFFFABRRRQAUUlLQAUUlFAC0UUUAFFJmloAKKKKACiiigAooooAKKKKACiiigAooooAKKKKACiiigAooooAKKKKACiiigAooooAKKKKACiiigAooooAKKKKACiiigAooooAKKKKACiiigAooooAKKKKAGMwHJqNiW6YNJNLHbxM8jrFGgyzMcKor508aftseDtLW6h8MadqnjSeNXEd1p0ccVk0ij5f30zL5i7v44lkWsqlWnSjzVJWOnD4XEYyXs8PTcn5HoXxC/aC8C/DHVY9L8Qaw0eqSJv+w2NrPdTRr13yLEjeWDj5Wfbu/hzXF6x+2n8NLHSbieyvdR1LU9/l22j/wBm3FtPcyY3fJ50art2/Mz52rj+98tfD1j4yj1eP+1ria41rxDrTSX90sULSXNxN/y0Zo/4Vj+783yxqqr8qrW14F+H2sfG7xVY2On6tougz6fJJfq0/mX7bVVoW/1e2GT/AF3/ACzmb/gNeNRxmMxVWUcPS90+5xOR5TlmHp1Mdif3mnuo9tm/bK+JMmqi6TRvC0Gm43f2Uy3Ek/8Au/avMVf+BeTXrPhv9tb4d6logn1e5vdD1yNljudDeynup43/ALymFWVom/hk4X+9tYMq/Od18G7Ozvmtbj4waTE0c32aSf8A4RuT7NHNu2+W032ny1bcyrtZt1cn40+EviD4UeNrmzl1bQ/Et5qVm2pMse7TpY7eHbHubzPMjjXc3/LSZV3fxfw0U6ebU+aVSKkPEPhXFyp06FSVL+Z2f6n3X4D/AGi/APxJ1r+yNG1p11cqHjsdQtJrOSZdu792JkXzMD72zdtr07eNuSOK/KDV9bt7FZ11CS68Natpqrfx/aY/JubVo/mW4j/vbW+60e5Wr6/+G/7bmgaro+kx+NNJ1jwrqUlrB9q1CW2WSyE7Ku7/AFUjyRruJ5kVVX+9WmEx/tLxxEeSRwZvw99V5a2Xy9tTfWOtvWx9SUtUNN1C21axgvLK4ivLW4RZYbmF1kjkU8qysvVavV7R8XtuLRRRQAUUUUAFFFFABRRRQAUUUUAFFFFABRRRQAUUUUAFFFFABRRRQAUUUUAFFFFABRRRQAUUUUAFFFFABRRRQAUUUUAFFFFABRRRQAUUUUAFFFJQAtFJmigBucKa+VviZ4is/H2uX2qSq19omn/6NYwr83nfNtkkVfm+aSTaqt/dX+FtrL6n8cvF8ukaCvh/T5HGr6vG0amM/wCph/5aSe391eR97/Zr5b8ba99lurPSdNk8qz03ayqrK37zbu/uru27tvzf8C+bdX0mU4R1H7VniZhiIx90+pvgP44bxN4ZbStQ/da1pG2G4hZ9zGP/AJZt7/L8v/Af9qvVa+OvCvjz+xNa0bxnawsLb5rLVIY/9ZIu1Wkbaq7dse6NlZm/urX15Z3kF/aQ3FvIssM0ayI6/wAStyprzcww/sal18LOvB1vaU+XsW6KKSvNPQFoopKAFooooAKKKKACiiigAooooAb1ppcbtoIz6UHNfEbZ/wCHlnXnd/7h67cJhXivaWlbli5fcefi8X9V9n7t+aSj959uenFKe/FITzkGvkT4/ftLeKdY8ef8Ky+FUTSa4JPJvNRjVXdZP4o493yqF/ikb7v+zt3VGFws8VPkh/wxWJxVPCw55/8ADn1zvHHP60/jqOtfFUf7FvxN1W1S/wBU+K9yut8sIxLcTKrH/pt5it/47XsP7Mug/EnwjaeIdE+ImozaobSeH+zryWYzrLGytu2yN8zfMv3W+Zfxrpr4WjTg506ylY5sPjK1SfLUouNz3Nsbcnj60qtuXI5+leH/ALahLfs1eLz72f8A6WQ1w/8AwTtz/wAKX1wZx/xUE3/pPb1EcG5YOWM5tpcti5Y3lxscHy7xvc+qcjGaKToAK8X/AGrfil/wq34P6rd203larqOdPstrbWWSRcMy+6rub/eArkoUpV6saMPikdletHD05VZ7I9o9AOlHrXiX7JfxcPxY+FNlJdy+brmlBbC/LH5mZVG2T/gS/wDjwavTvG3iux8D+FtU8QalJ5dnp9u1xKQBztH3R7t938aqrQqUazw8viJpYinWoqvH4Tf/AEpeg9a+Sf2M/wBoLU/iV4l8X6P4gufMvrm4bV7JGbd5cbbVkhX/AGE/d7f95q+tc1pisLUwdX2NTcnCYqnjKXtaew1O5Ix9KXjFYHjLxZp3gXw5qWu6tcC207T4mnlc8kgfwrzyx6Be5xXxdZ+L/jD+15r9/wD8IreyeDPBdrJ5XmxytCP91pF+aSTb/Cvyr8v/AALTB4GWKjKpKXLCP2mYYvGxw0o04x5pPoj7uBDDHG70zSq2QcnOK+KtS/ZI+Lng+3/tPwr8ULvUtVh/eG1a4mt9/wDsqzSsrf8AAtq12/7Mf7TWp+N9en8CePIv7P8AGdoGRHkj8j7X5f31aP8AhkH3vl+Vl3f3a6KmXL2Uq2HqKpGO/f7jnp5i/axo4im4Slt2PqAtkDjNNMgHAIB+tD5WNgOoFfnF4J0D4kfG34seM9G0X4g6ppH9m3VxN++1G48rb521VVVascHglio1JSnyxibYzGywsoRjDmcj9HWXHIxTh92vhDXLj9on9maNdZ1DXD4x8NxPm4aedr2ILu/5aGRVlT/eX5a+rPgz8W9K+NHgW28RaavksW8m6s2bc9tMuN0bevXr3DCnicvnh4e2jJSh3QYbHxxE/ZSi4z7M9GopKWvNPVCiiigAooooAKKKKACiiigAooooAKKKKACiiigAooooAKKKKACiiigAooooAKKKKACiiigAooooAKKKKACiiigAooooAKKKKACiiigAooooAKKSs/XNWj0XRdQ1GQForO3kuGVe6qpY/wAqBrV2PnP9uX4k6Z4Z+G1j4WudYtbK98S38NpNbtdLHKbNd0kjbd27y2aNIWb7v77b/FXx3r2pXX2e5tdGa3W8hs2u5Lmdv3FrHt+Vm/vMzLtjX+Jv9lWZbeoeIptYt9S8X+JJPtOpalG1/qU7Lu/h3eWv/TNV+VV/urW14B+BniTwbp8GueJbdfDXhzTVuPEOpLpqrI1wyx/NaKqt5bbY90Plzrt+aTbuaRtvzNGlHOMXzS/h0z9TxFafB+VezjKPtq2v+Ej8G/DnWNJ0OxuP7U0uz8L65eLujtP32pa9cNHu+VV3STSKytIse5Yf9Y23y/mr6I8H/A3UNFtLjUdL0rw/8LYPssiK0cP23VwrL/y0umby4V3bmaNfOXc27zN26sb4M/Eq3mt28Zaj4H8RS6zqCtBawQW9qsGj2SttWygXzl2/d3SNt3NJ/srGq6vxI+NGneMdM1Pw9c6Hqmn6LaQR33iC21D7Puu7eSXy7fTo1WRv3l7N+5+b7y+d/FXfiMTinW9jg48tP+Y/MPqtaovbYq8pHgPh74geNI/2oPAUdr4QYeAV8F2+nSeGBqVi0txp9xZfaLmT7HJL50jNPHu8z5WZYG+VmZq910H4V+IPFHwc8Jvqkeg+P7WTR7Wf7FefLdws0at/o2or8sm3+FmjXcyqzSL96q0euS3XgO7juvCviS28dX14uuSa3b29pth1VdrRsu24VmhjWOOHa33oY/Lb7zVr/D/4yJ4Ptra1PhvVp9N1pp7uxsdPEbtpd0rf6fYN5ki/LHM3mR/3o5PlXbHWeIxGN5eahHl5X/4EaSwcvhqRPFPiR4IW6sd1vp91q/hCxuFXUvClzarDrPh+ZvuzQN8vzNtX955jLI3zbpFZlblbyyuPDOqQabeX0Or2d5G0+k67bL+41KFW2t935fMjb7yr8vzKy/K1fQ3xm+KVtJodx4otPBniK017SLeRoZrmG08u5h+9JZTf6R80cn3futtbayru+95QvwrsfH3geXwrZQ/6Nri/2/pbas3mXNrqaqytHcqrMsfzRyW8isqxtuba2792vRKh/a1C1aPLU/r8D2MnzXF8N4nmf8OXxR/X1R7d+wn8QrDUvDfiXwfFrFpeXGj6i09nZRTKzQ2syozKq7s7Vm87/d3KtfVSrtr8qtCvJTa6RreiiTQdZsv31jNGvlyWMy/Ky/8AoSsv3WXcrV+mPwz8Xf8ACffD3wt4nERtxrWl2+o+Qf8Aln50Sybf+A7sfhWOW4v20PZS+KJ6XFGVfUcRHEwlenW96P8AXzOpooor2T4wKKKKACiiigAooooAKKKKACiiigAooooAKKKKACiiigAooooAKKKKACiiigAooooAKKKKACiiigAooooAKKKKACiiigAooooAKKKSgBhbtXg3ij42eJPCnjK80S60+whSMs0VxIr7Xj2syt97+Lbt/wB6vd92SBjqM14/+0F4Qt9S0W11s2zXE1jIonxn/UN94nH93735142a+3jh/aYeVpI9zJXhpYtUsVG8ZafM5z/hf2vrIwEWgyKD8xE8h/u+3+0tVNQ/aU1zTY1ZrLSp924/uZHbH3fb/arxPULWXS7ua1dmQ7v++l/hqx4Z0v8AtnWFjePz4LdfPmjX+Jdyrt/2vmb7q18dleMx+Y4ynhYztf8Apn6LmeVZZleBqYycE+X8ex0nijxxqt5qFxrF80C6pqcaxLbBCTbw+W21Vcqy/wDLTc0fy/Ntrzr+yY36ySM1fQnwj8C6f8T7zW9U12xknsrc/Y7H94yq3zM0km5du5t3/oVRfEz4Q6J4Pu9LksoZ5LSQs8qyTN83l/Nt3f7S/wDoNfb59meZYeSeXVOSEdH67dj4Lh3BZRWTp5lT56ktV2ta/c8i0nQZk0iWK31e2givF/eQzlVZfmZfl/u//EtXrHw++LWp+DfCdlo5k0u/WH5beWa6ZW2lm+Vvl/hrt9Y/Z78Nx+HL+WxsZhqn2Rjb7biTasu35dqs397+9Xzpa6TDdeEb6RF26vZ3HzLJMu6RdrMy+X8u35V3fxfdauGCz/HfuqlaPN8X6dv6uds58O4de0p0JcvNb069/wCrHu3/AA0Nqh2/6Bo53bf+X1+//AapX37Tl7YrG39j2Nx5n/PC8Ztv+98vvXz8rbl3LXbeEfDcurXml6RGkm/VZl+0so+aKFW3N/47827/AIDXxNPNsxqVPYxl7x91VyPKsPR+sSh7vz/zPpv4Y+NL/wAeaEdUvdOXT43kZYFDlt6r/F+efyrtc/L0qrp9jBptnDbWsaxW8SLGiKOiirfPrX6fh4zp04xqSvI/G684VKspU48sew+looroMAooooAKKKKACiiigBK+H1/5SWf8C/8AcPX3BXw8P+Ulf/Av/cPXu5V/zEf9e5foeBm3/Lj/ABxPsvXLxrHRb+6iH7y3t5JV3eoUn+lfIH/BO7RINQ/4TbxNdSfatXluI7fzJW3SKrbpGb/gTbf++K+zJoluImjdQ0bLtZT3FfAfhHXtQ/Yj+OWr6VrdncTeCtbb9zdRruzCrMY5V/vNHuZWX73zf7u68tTq4XEYen8crfOxnmDVHE0MRU+CN/lfY/QMEZxS/SvPtM+Ofw+1TRxqkHjTQ/sgXc8kmoRRlPZlZtyn/Zbmm/DL40eH/i5ea7F4cnku7XSZY4ZLzbiKZm3f6v1X5fvV4sqFWKlKUdj21iKUnGMZbnI/tqf8m0+L/rZ/+lkNcP8A8E6/+SM65/2ME3/pPb13P7an/JtPi/62f/pZDXD/APBOv/kjOuf9jBN/6T29e/T/AORJP/r5+iPn6n/I6h/g/wAz6m5z9K+F/wBoa4m/aE/ai8O/DiykZ9G0hvLvGj3DDf6y4b/gMaqq/wC1/vV9d/FTx1a/DP4fa/4mutrpp9q0kcbdJJPuxr/wJmVfxr5q/YG8A3N7B4k+JWs7p9T1i5kt7eeX70i7t00n/ApPl/7ZtWOW/wCy0qmOl9nSP+J/5HRmP+0VaeBj9rWXov8AM4vRWf8AZF/aul0tmaDwX4i2rGzNiJIZG/dt/wBsZPl/3S396up/bc+IN/4r17w/8IvDR+0XuoTwzXsa/wATM37mNvb/AJaN9Fr0z9tD4Sj4mfCebULSLzNc0Hde2u0fNJHj99H+Kjd/vRrXjv7C/wAN73xf4m1P4o+JJZtQnt/9CsJrolnkm27ZJOf7se2Nf95v7texSrYetSjmdT+JTXL/AIpfZZ5NSjWpVnllP+HPX0XVHM/FL4fH9kH4tfDzxXoyyTaR5McV43zHzZI08u5z/dMkbbl/2t392vv+wvoNVsbe7tZFmt7iNZYZF+66sAytXlv7Ufwv/wCFrfB3WdPgh83VLMfb9P8AXzo+do/3l3L/AMCrif2F/igfGvwm/sK6m8zUvDkn2T5m+Zrdvmhb/wBCj/7ZV5WKlLH4KOKl8UPdl6dD08LGOX4yWHXwz1j69TM/4KFa1dWPwe0y0gk8qC91eKO4X/noixyNt/76VW/4DXsf7P8A4dsPDHwZ8G2On+U1udLt7hpYvuzSSRrI8n/AmZm/Gsb9p/4SzfGD4SajpNiqtq1rIt/p4bvNHn5f+BKzL/wKvEf2Xf2o9K8O+H4PAHj+4/4R/VNF/wBEgur5fLjaNf8AlnJ/zyZPu/N8u1aUacsTliVH4oy96P6ilUWHzKUq3wyjpL9D7Kz07V8PftXafF4P/al+HHiPS2W3v76S1Nwsf8TR3G3c3+8rbf8AgNfS/ij9oT4deFNIa/vvF2kyxhPMSOzu47iWVfVI42Zm/AV8qfDW21j9rX9pSLx3dWc1j4S0CaN4RIPuiFt0MOf4mZv3jf3d3+7TymjUoyqYmr7tOMX/ANveQs0rQrKnhqfvTcl/275n3r1T6iviL9iv/k4b4ofS4/8ASqvt7+GvgT9lfxtoPgb4+fEm48QazY6NDM9xHHLfXCwo7favuruqcujKWExSj2j+ZpmEowxeFcu7/I+6tW0211rS7vT72Bbi0uonhmhkGVdGXDLXxt+wL5mh+NviToUU/wBo0+3eIK2cqzRySR7h/vLj8lrsfjr+2h4Y8N+HLzTvBWor4g8QXMTRQzWoYw2+7/loWx8zL/Cq1f8A2Ifg7f8Aw58D6hrutwSWmta+8cn2af8A1kVum7y9391m3MxX/dq6VKeFy+t9Y93n5eVGdSrDFZhSdHXkvc+m6WiivnD6UKKKKACiiigAooooAKKKKACiiigAooooAKKKKACiiigAooooAKKKKACiiigAooooAKKKKACiiigAooooAKKKKACiiigAooooAKKKKACkpaSgCMr3P0rhfjJ43074c/DTxDruo2pvoYLfyksl63UkjCOKH23SOq57bq7otux+dePftUeD9S8Z/BnVIdIt5L7UbCWHUUs4s7rhYZVaRFH8TGPftX+JttZVZSjTk0dOFjTlXgqkrRvqfnfYeHNWv5PC/hXW/s+oaReXlpbXl3aTSQztbxt5k/y/7UcbfMrf8Br3D9n3S7fWbfQ9N0vxZa+LNB1bxBDJcW1pb/ZorGO3hkv2VvLZlkka4WCNvm+63zfe2t5XZ6lpuva94Xht9St/+JhefZIWjm+ZmuLeeFdv8X3pF/2q9k/ZZ163X/hFvI1C11OxbxFf6bDJZSSSLG0lhJcfvN0Maxs3kt8qr5e5l27d21vDyxyjl2IlH4rM+u45/wCRjQpxlzR5Y/qd58SGh+C/ji+vp45v+EY8SGS7t1hj3eTqarukt1X7zNcqvmKqr/rI5v7y14p8ePG2v/CT4XeJfFdtHY3mreGLm2v9SiuxJLaz6zcSQ27Q/Ky7obO3m8hdrfNI0jMu6Ovob4peJrnxH4vttN0lIbqbR76O305Z4/Mjl12SPzImZd3zR2VvuupP9po9vzLtr5r/AGgtA1XxN+xj4p8M6Zo15e+KbOS3stQ0uxjku7lr2O+ha4b5V3Sbvmm8zb8yssn8VdeWVJSoRjU+L9Dy8NUlWjKP8ifL6/8AANu4/aoaHw58NbDS9GXxV8RfFmm2OpTaJp8nlRW0c0cck00jNv8ALjXc23dXoninRVi1gCC5hs49ZuofLuZNvlabrartsrhv9mZW+yyfxMskf+9XzJ4d+B3xD+B/h/wj4/8Ahdpa33iDVvDmnab4g8NaxG3mxXH2eJVmUttaPy5NvmR7l27f++fX/A/wd/4VL8NfEs/ie+uvGvjjxa6JqcjSsPt15J+7gtoV/wCWaqzbVf5dq/N8qqqr7X2fePSftK1OSqf8MenfD+X/AIXd4v02N7aa00Xw3It7rllNtZl1WNv3dhJt3LuhkVppNrfejtvvK1c18X9G1Twr8SNXvvDNrHd6hpeqWuueTHpv2meGyvlaORV8mNpvLa6s5pG2sv8ArJPvfKq9z8M/EGseCvF72XiVo/tt9cQ6Xr8kbfK2p+Wq2Wor8q/u723j8tvuqtxD5a7mZmrzr9rPwjpvi7xB41l1HTW1K2+xaBYLItwsH2Ga3m1G4kkaRm+X9zdKvy7m+b7v935zD1a0s0Un8NtPQ+Vx1aWJjzVDyT4l6TrGk/FTx7oukfY7az/tRrtbufczRtdQx3TKsP8A10mk+8y/7tfen7MvizTvFHwR8Lf2dZ/2aNMtI9IlsN277NJbqsLIG/iXCqyt/ErKa+FvFX/Ep+IXiqzvb5Z7nSY9Osrq5kuPO3NHp1t5jNI3zN8zN8zf3a+w/wBjPwfe+GfhZd6lfxSWz+I9Uk1mG2mXa0ULQwwR8f7S26yf9tKeH93Mq8Ix90+5zdRqcP4CrUl+8t+Fv+GPoCiiivePzsKKKKACiiigAooooAKKKKACiiigAooooAKKKKACiiigAooooAKKKKACiiigAooooAKKKKACiiigAooooAKKKKACiiigAooooAKKKKAEx7VWurOO8t5beVFkhkVkdW7qatUUnqNaao+Kfih4TufC3id9KFo3lQxtJBMq7vNh/hZv93a26qmgwre6db6JpgW71vV7jyWbcrLCrLt+795flZvvf7Tfw/N6h8aPEza94se10oWoh0ONlvriZlVpGba3lx7v7u1f91mrjfhjrkXw/wDiBaXE0cEljqC+X9o2/cjdvlZW/h/h3V8hTg+HcbLnj/GXuy/l1/r8D9AlVfEeWx5Je9Resf5tP6/E7jULzWv2c/CN9qtzJb3Oh2Nu26PzMs8jN+7RflX5mkf+78oP8Xy7fEvEGofFfx1pra5qHxH0vw7fsJLmHQfNNvHDDGyo26Tbj5Wba2S3zblZsqVX3L9qJrf4jfCfxB4e0WV7zV0SO+SGJGbzFhfzGXp3VW2+rV46vw9ufiBY2XirwtaJqOhXvhSDQY7K3dfMt7gTIHRl/hVQGZm9veiqtPZ0pc0fU93JpUqdCOJrxjGpKXK3KK+Gytvtf3tfI3Pg9+0F46tPFFx8PfFlxZa34hFszWVxbypLIJV5a3lMfys2xS3y/Nwd25uKt+M/Des/DbXLLxBqg82DU5v9MWN2XaysrfeVvm/vfw7vm+WvNfhf8N7vSf2tPtU+oW7pptxPqWpXEbfu7VpWkWOAv91pG3R/+Pf3a+k/2hPHmktoP9gwpBql1fYcNu3JbqD/AKzK/wAX936GtcNjPqi+u1qnwfZ7+Xz/AA+Rz8R4DD1sXDCYCmmqsIylyraXddl1t1XqeB6pZWel65ui3S6XJJuj2ttZfu7o/wDeXdX0l8A/CM1vpcviPUUZL3UBtgjb/llb/wAP/fX3v++a8A0lpta09vD+oMrXOm/v7WRpty7drbV+98y/dX5f733dzbq+u/BPiOy8U+G7PUrJfIilXa8DDDQyL8rRt7qwK/hXvVsmofXP7Uo/DU1+b6/P87nwjzvEfUv7JrfHT0+S6f10sdLS0lLXaeIFFFFABRRRQAUUUUAFFFFADG45FeTf8M7+HR8cj8Uje6p/buf+Pbzo/sv/AB7fZ/u+Xu+5/tfe/KvWM7VI70bv5VcKs6V+SW+hhUpQrcvOttR3QVzHjr4feHviRob6T4j0m31Wzb5hHOvzI395WHzK3+0tdRRxUxlKEuaJpKMZx5ZHy/ef8E+vhvcagbiK+8QWsW7d9lju4jH9PmiZsf8AAq9o+Gfwh8L/AAf0ibT/AAxpwsY53Ek8jSNJJK395mbqa7b6UmCeoBrrrY7E4iPJVm2jkpYHD4eXPSgkzkPih8N9P+LPgjUPC2rTXNtYX3l+ZJZMqyrskWRSpZWX7yL/AA1mfBj4MaN8DvDV3oehXV9d2txdtdu+oSJJJ5jRxp1VV42xrXogoLCuf2tSNP2XN7pv7Cm6vtre8cV8S/hZofxa0FdE8QpcTaesyzmO3naHcy/dDFfrWt4R8J6Z4E8N6foGjwfZNOsIhDDHuzhR/XvWTr2n+NPEETRaVqdh4Ut/+e8lr9uuz/wHcscbf9/K8e8Xfsl+JfGO+S7+Mfid55Ad6yLiDd/1zjkVQv8As11UYxqQ9nVq8sfmzmrOVN+0pUuaXyR9J8MvPT0rJ8M+F9L8H6PDpWi2MOn6fCzNHbwDCruZmb/x5mr4p1z9jf4veEWe58J+PH1Er822O/uLGZm/2cNt/wDHqo6f8Z/2kvhTMLPXPDl9rsEe0br7TWuEC/8AXxB1P+8zV6ccpjWj/s2IjLy+E815pKlL/aKEo/iffOS3GMj1zXmvgT4A+Efhr4q1TxFoFpdWV/qG8Txi5cwMGfdxHnaMHp6Zrx7wj+198QNfuYrVvgnrc7s21p7WSRUX/vqHav8AwJq9q8Lal8QvFVuk+saJYeCLdjzAt5/aN4V+u1Y4/wDyJ9K4KmGxODUozlZS81+h208Rh8ZKMoq9vJ/qei9q8p+KX7NngP4tXH2vXNJ8vU9u0ajZOYZv+Bfwt/wJWr1RVCxgZz9aXg1w061SjLmpyszvq0adaPLUjdHzPoX7Afw00q+W4uZda1mJf+XW9u1WM/8AfqNG/wDHq+hPDvhvTPCukQ6Zo9jBp2nwLtjt7ePYi1q/jR+Na1sVXxX8afMZUMJQw38KNhuwMuBXgmrfsT/DDWNUu9QudPvmurqZp5WW/lG5mbc3f1r36kOamliKuH/gy5Sq2HpYj+LG55B4F/ZZ+G3w41OHUtL8OxzalG26O6vpXuGRv76qzbVb/aVd1evYAHAoGfWnVFWtVrS5qkuYqlRp0Y2pxsLRRRWZuFFFFABRRRQAUUUUAFFFFABRRRQAUUUUAFFFFABRRRQAUUUUAFFFFABRRRQAUUUUAFFFFABRRRQAUUUUAFFFFABRRRQAUUUUAFFFFABRRRQAlI33T9KdSGgD8jLCKTVvDNn4os7O3i8VXHl67HP5aq323zFul+b/AK6V9UW3/CIeI9M8F/8ACP8Ah+ceEL7TL7xcNH0CNo7vU763+zrHa+Yu395++kZl3KzeTt+6slZPx5/Zr1n4eXWreJfCdmNY8JfvtQutNjkVbvTf+WknlK3yyQ/ebbu3L91VZfu+VfBHx1Y6XJL4f8dWbaf4H1i++26XdrfNHPod7Iu3zPOjZWt1k3N+8jb92zN837xmXwMBKeExFTD4j4Z/Cz9Fz6nh84wFHHYH3pUo2nG3T/gHvFv4u/4Q/R/h14ivPBsfgTxbcafqdo3gFLK81OaFWuY2nuo/sFvNJtZkjZpGj2t58e5lbbu4zxR8TpdP8YX3jCa0udAs7y2ittRS58JeJ1inmVljt5vMbTFVZNreX/F5n7lfl8v5vV9T8Ij4Sa03jPQJ/wC0ru4jWx1C28Sas0k99G0zNGsF1cMzRybpG2x7vLbcq/L8rL11j428G/FvStT8L3kmLm8t5La+8PavG1rfLG26Nt0LfMy/e2yLuVvvKzfeox0p4HE+1VH/ALePgcJibO8Je8eCf8Lkl/54Tf8AhKeJf/lVVPQviY+t+L9K8URW1xrljo63MFra23hLxK0EV7u8uSZmXSm/eRqske35dvmSbt3y7d3+1Ne0aF/h79p+0+P47pdJs7qaPd9ohZWaPU2Vdvy+SrSSbfl8yOSNf4a9lXxF4M+B/h3SPDC6ifMs7dYLPSYGa91K82/xeSu6SRmZtzSbfvNuZq1x2PXJGnCPNz/ke7i8RP2cY+05ub0PDPiP8UbzWNE8V+KbTwjc+KfEGnaRBpo8Hw6Lq1vNcwzXSyLe3EdxbwzNHB9nlaNoVbazSfMrNR4JuPCmpafr891ceIvD+i3mi2/izVtN1i6uotX0W7h3Ws63M0zedcRstmqr527d5EnzMrKq+myeCNc+JXjLT/Ges3GpeB5NNt5LbSdP0m6WO+VZGVma9kXcsn3V22/zRr95vMbb5fzr+0J42XVL6+8L+D/M8R2cd1HN4o1m7vGa51aaFv3dlHI3y7Y2+ZlXbHu/d/L+8rtocuBw0a1WPL5HiYLC1M2xP1ah736LueW+IrGHxFpeteLNS0mzXxDeSXGsbrm3WRrWSRmkWP8A3VXbHt3fdWv1osZ/tFlDPt2l0VtvpkV8E/Bj9nvW/jbDpWsazYNonw/uljuZBdMv2nVofveSsa7tsbfdZm2tt3bV+bcv36RlcA4HauDLYV4qVSv9pn1/FGIwNSdHDYH4aceW5LRSUte4fDhRRRQAUUUUAFFFFABRRRQAUUUUAFFFFABRRRQAUUUUAFFFFABRRRQAUUUUAFFFFABRRRQAUUUUAFFFFABRRRQAUUUUAFFFFABRRRQAwrXGfFDxt/whHhmS6tovtOqTt9msbZeskzf+yryzey12je1fLPxC+Ik2teL9QvBZXcsWmK1rpyxW8vz/APPSTldv7xvl/wBlV/iruwWH9vUs9kcmKq+zgebePNWbS9PXQopllnaTzr6dZJN00n95tzfxNubb/wAC/iqloN2msaPNaTzLDLbhpoWk7t/dq/b+EbHWbddS1S4vINQuI5J7iBbdl/feY21V/d/LuX/vn5f71XrXwR4dij87+0tSgf8Ad7o2h3bf3as3/LP5tvzLXp5/ldLNcF9Xj/Ej8Mvz+QcPZvVyjG+2l/Dl8S/L+vU9n/ZjvrC70HULXykW/s5cySN950f7v/oJ/Sm/EDwF4ITxxaCbRIbaTU2Vrq4tLyaz3/e3NJ5TqrfKv8VeQQ2NhotncSaZ4jvY5XTyZZY5PJXftVvLb5fmVm3f7u35q4jVNe1Oe+dvtt3dxQyN9nkmdmZV/vf7NfF4fIcdDCxw14c0f7z/APkT6+rneE+vVMXTdWMZfyx/yl3Ps688CeEPCPgW9sLfTrPTNDhjaaTyYlGOPvnj5m/3s7q+UZL21n1S91HH7rf+5t5JPm2t/wABb5f+BfLVHQ9f8R6pJJpy3921tdr5c0LyNtf/AIDU99dQ3lzY6bOv2bT45FjmngXzGVf4mVv/AGWvnczy+pjcxo4BKN/7utvwWy1PpsoxtPA5dWzOtKTUv5tG/wAXu9Dmm1u4h1JrqKZt3zK3+0rfe/76r6S+Dfiyz8O6tY2aXLNpHiJV8lpW+7eKvzfxN80n8X+0v+1XjVx4V8JxSPH/AGtdfd+Wf5WVm2/3VXdt3N/47/wKqel6lDoP9q6bLcTfY/OWe3ntmXcyq25V3f7Xyt/vL/wGv29YLDxwccLSWkY2Pw6rjK9XFyxNZ6ylc++/Sjsa4T4Q/EKP4jeDbbUWCpfRDybuP+7Iv8X0b73413VfDzpypycJH0kJKpHmQ+iiipLCiiigAooooAKKKKACiiigAooooAKKKKACiiigAooooAKTaPSlooATaPQUtFFABSUtFABRRRQAUUUUAFFFFABRRRQAUUUUAFFFFABRRRQAUUUUAFFFFABRRRQAUUUUAFFFFABRRRQAUUUUAFFFFABRRRQAUUUUAFFFFABRRRQAUUUUAFFFFABRRRQAUUUUAFFFFABSUtFAFG6s4tQs5be4jEkMyNHIjfxK3UV+ZnjDwPd/CfWp/BfiaPb5O6Cxubtf3WqWv3Y5FZvlZvL2+Yv8Lbv9nd+n3pzWdrGi6d4gsns9TsrbUbST71vdwrJG3/AWrgxuDjjIcrPo8kzqrktaU4R5oy3R+W/h/wAfeIIrOXQ1jk8UeCdFuttjps980cscixsrRxt/y2t18xV8mRtvy7dyr8taWk/E6+1bzbfxNr2lz6Yqwt/Y3jSFbny28yNW8uS8aNZJPL8yT5W27vL2tt3Kv0J8bv2UtU0/WrrxB8N9LtbrTrxle58MW7R2jQzfdaS2LMse1v4o2Zfm3MrfNtrxPxX8B/ihqXh+7iPw81j7Eu0326S1aRoNy+YscazM0jMu75VVv/QVbz6eJzDBVfZyj7SJ9HXwHD+cUPrUa3sav8vmeseItN+GNh/xUlloNnqt5Y6PtXWY9Yh+ybWZd1p5cd3u8z5dy7Y2X+HdXMa58TPC/hBvFGm+FPFHhnSLZry3u9JXwPYrez3HzM00dz9nX5Wb5W3SN8zfMzbW214s0vhWK6ZZYdNivo28hraSFVuVk+75flsvmbv9nburtvB/wP8AiZZ6L5kXw81kaTcTSTWLf6PHKscjbtskLSLJH8zN8rKvy7fu1cc4rVIylRw/vGL4OwGHnFYzHx5Zf13/ABK/jr43eKtQ0uLQbBrrwr4Cur5oG8+63aq0czMyxtMrMsce5lj2qzNtZf3n8NUfCvhu68aanbeDvBlus+pyKsKrZruj02Nvl86bb/q41+Zvm+9t2ruZq90+EH7J2ueJPENpqnxG0mLTPD9jJ5y+H7qSG4lv5F+59o8tmjEK/K23czM23dtVWV/sDQvD+neG7JbPS9Os9LtF+7BZQLDGP+AqBWKwmIzCUa2Nl/26dVTOsBkEamDyanzc32yPwp4Zs/BvhbRdA05PL0/SbOGxtk/uxxxrGo/75WtqiivoT82bu7sKKKKYgooooAKKKKACiiigAooooAKKKKACiiigAooooAKKKKACiiigAooooAKKKKACiiigAooooAKKKKACiiigAooooAKKKKACiiigAooooAKTA9KWigBMD0owPSlooA+bvjp4DfT9a/tGHbDpWptm4wo/d3Cq7bv9kt/e/wBmvCGXbIy/e2t/DX3P4w8NQeLvDd9pVyPkuYyitjOxv4W/4C3NfH2reHf7L1T7FfrHbz2Enk3ahW2tt/i+Vf4l/wDQq/Mc/wAFOjX9rTfuyP2HhXM41qHsKi96P5f1p9xV0nwvcak1hbW6sdTvpVW2jVvur/eavsjwX4Xt/B3h2z0q3+dYEAZ8cu/8Tfiea8r+APg03kzeLLtFRWja10+LbykYYguf9r+H8Gr3T3r6HIcAqNL6xL4pfl/wT5XijMniq31WHwx39f8Agf5j8D0o2j0paK+tPhxKKWigYUUUUAFFFFABRRRQAUUUUAFFFFABRRRQAUUUUAFFFFABRRRQAUUUUAFFFFABRRRQAUUUUAFFFFABRRRQAUUUUAFFFFABRRRQAUUUUAFFFFABRRRQAUUUUAFFFFABRRRQAUUUUAFFFFABRRRQAUUUUAFFFFABRRRQAUUUUAFFFFABRRRQAUUUUAFFFFABRRRQAUUUUAJRS0UAJRS0UAV/skBuPO8mPzQPv7Pm/wC+qsUUUDCiiigQUUUUAFFFFABRRRQAUUUUAFFFFABRRRQAUUUUAFFFFABRRRQAUUUUAFFFFABRRRQAUUUUAFFFFABRRRQAUUUUAFFFFABRRRQAUUUUAFFFFABRRRQAUUUUAFJS0UAMx714z8WvhNdeLfE2m3+n7hHcFbfUmjZVxCpzvGTy38Nez9KRvyrkxOGp4uHJUOzB4yrgavtqL94paXpsGj6fb2lugit4Y1jRF6BVq9RxS10xSiuVHLKTlLmkFLRRVEhRRRQAUUUUAFFFFABRRRQAUUUUAFFFFABRRRQAUUUUAFFFFABRRRQAUUUUAFFFFABRRRQAUUUUAFFFFABRRRQAUUUUAFFFFABRRRQAUUUUAFFFFABRRRQAUUUUAFFFFABRRRQAUUUUAFFFFABRRRQAUUUUAFFFFABRRRQAUUUUAFFFFABRRRQAUUUUAFFFFABRRRQAUUUUAFFFFABRRRQAUUUUAFFFFABRRRQAUUUUAFFFFABRRRQAUUUUAFFFFABRRRQAUUUUAFFFFABRRRQAUUUUAFFFFABRRRQAUUUUAFFFFABRRRQAUUUUAFFFFABRRRQAUUUUAFFFFABRRRQAUUUUAFJRRQAtFFFABRRRQAUUUUAFFFFABRRRQB//2Q==)"
      ],
      "metadata": {
        "id": "I-RqOx2iVTVX"
      }
    },
    {
      "cell_type": "markdown",
      "source": [
        "**<div align=\"center\"><font size=\"4\">REGIONAL TRAINING</font>**"
      ],
      "metadata": {
        "id": "NenJH0RoUAWf"
      }
    },
    {
      "cell_type": "markdown",
      "source": [
        "\n",
        "<div align=\"center\"><font size=\"4\">Analysing permafrost in the Hindu Kush Himalaya using open access tools</font>\n"
      ],
      "metadata": {
        "id": "crqIPu3RSv-Y"
      }
    },
    {
      "cell_type": "markdown",
      "source": [
        "**<h2 align='center'>Extracting MODIS Land Surface Temperature from Google Earth Engine (GEE) to point location**"
      ],
      "metadata": {
        "id": "eJJX2b4lTRea"
      }
    },
    {
      "cell_type": "markdown",
      "source": [
        "*This notebook is prepared for the participants of the regional training on [Analysing permafrost in the Hindu Kush Himalaya using open access tools](https://www.icimod.org/event/analysing-permafrost-in-the-hindu-kush-himalaya-using-open-access-tools/) by [ICIMOD](https://www.icimod.org/) through its [Cryosphere Initiative](https://www.icimod.org/initiative/cryosphere/) under the Regional Programme on [River Basins and Cryosphere](https://www.icimod.org/regional-programme/river-basins-and-cryosphere/) in collaboration with [Kathmandu University]() and [Tribhuvan University](http://www.tribhuvan-university.edu.np/).*\n",
        "\n",
        "*The Cryosphere Initiative is supported by the Government of Norway and Swiss Agency for Development and Cooperation.*\n",
        "\n",
        "\n",
        "Coded by: \\\n",
        "Amrit Thapa \\\n",
        "Email: amrit.thapa@icimod.org \\\n",
        "GitHub: https://github.com/amrit-thapa-2044\n",
        "\n",
        "---"
      ],
      "metadata": {
        "id": "kZoj_KdpSLtH"
      }
    },
    {
      "cell_type": "markdown",
      "source": [
        "# Why to analyze Land Surface Temperature (LST) ?\n",
        "\n",
        "\n",
        "- LST is an important parameter for the energy budget of permafrost environments.\n",
        "- LST values can help distinguish between frozen and unfrozen ground."
      ],
      "metadata": {
        "id": "nel_3Dycn6K2"
      }
    },
    {
      "cell_type": "markdown",
      "source": [
        "# Authenticate GEE and initiate library\n",
        "Earth Engine Python API is installed by default in Google Colaboratory, so all that needs to be done is import it and authenticate it. "
      ],
      "metadata": {
        "id": "pcBNHLmizgt4"
      }
    },
    {
      "cell_type": "code",
      "execution_count": null,
      "metadata": {
        "id": "I4iMZiyyuVdV"
      },
      "outputs": [],
      "source": [
        "#load/import library\n",
        "import ee\n",
        "\n",
        "# Trigger the authentication flow.\n",
        "ee.Authenticate()\n",
        "\n",
        "# Initialize the library.\n",
        "ee.Initialize()"
      ]
    },
    {
      "cell_type": "markdown",
      "source": [
        "Each time that you start Colab, if you restart your Colab kernel, or if your Colab virtual machine is recycled due to inactivity, it must be done."
      ],
      "metadata": {
        "id": "nXKOVWvwmsaF"
      }
    },
    {
      "cell_type": "markdown",
      "source": [
        "Above step allows us to communicate with GEE. Now, we are set to pull data from Earth Engine's public data archive. You can explore dataset available in [Earth Engine's public data archive](https://developers.google.com/earth-engine/datasets)."
      ],
      "metadata": {
        "id": "pRtsKGxenEzf"
      }
    },
    {
      "cell_type": "markdown",
      "source": [
        "# Define user variables\n",
        "Let's define some variables to extract MODIS LST. The mandatory variables to be defined are: \n",
        "- the [sensor/satellite](https://developers.google.com/earth-engine/datasets/catalog/MODIS_006_MYD11A1#description) to be used\n",
        "- the time period to cover\n",
        "- [band/variable](https://developers.google.com/earth-engine/datasets/catalog/MODIS_006_MYD11A1) name as sensors can have more than one variable\n",
        "- latitude and longitude to use for the data extraction\n",
        "- the spatial resolution of the data (scale)"
      ],
      "metadata": {
        "id": "U-6GLGsF5WRR"
      }
    },
    {
      "cell_type": "code",
      "source": [
        "# the name of the sensor/satellite to download data\n",
        "sensor='MYD11A1' # MOD11A1 or MYD11A1\n",
        "\n",
        "# initial date of interest (inclusive).\n",
        "i_date = '2003-01-01'\n",
        "\n",
        "# Final date of interest (exclusive).\n",
        "f_date = '2020-12-31'\n",
        "\n",
        "# define variable of interest\n",
        "my_variable='LST_Night_1km' # 'LST_Day_1km' or 'LST_Night_1km'\n",
        "\n",
        "# Define the location of your interest as point geometry\n",
        "my_lon = 86\n",
        "my_lat = 28.5\n",
        "\n",
        "# spatial resolution of the product\n",
        "scale = 1000"
      ],
      "metadata": {
        "id": "FB81OuuQ5cMZ"
      },
      "execution_count": null,
      "outputs": []
    },
    {
      "cell_type": "markdown",
      "source": [
        "# Convert longitude and latitude to geometry\n",
        "In GEE the feature class (point, line and polygon ) has to be imported as a geometry object. For this exercise, we are interested in extracting data at a point location. So, let's convert longitude and latitude to a point geometry.\n",
        "\n",
        "This can be done by using ***ee.Geometry.Point*** function. It takes two arguments (*coords, proj* (optional)).\n",
        "- *coords*:\ta list of two [x,y] coordinates in the given projection.\n",
        "- *proj*:\tthe projection of this geometry, or EPSG:4326 if unspecified."
      ],
      "metadata": {
        "id": "yeRhVYYAZhUL"
      }
    },
    {
      "cell_type": "code",
      "source": [
        "my_point = ee.Geometry.Point(my_lon, my_lat)"
      ],
      "metadata": {
        "id": "xFtnWg6JdW78"
      },
      "execution_count": null,
      "outputs": []
    },
    {
      "cell_type": "markdown",
      "source": [
        "# Load image collection\n",
        "Our next step is to load the image collection (stack of images) that we want to download. This can be done by calling the ***ee.ImageCollection*** function. By pasting an asset ID into the ImageCollection constructor, an ImageCollection can be loaded from Earth Engine. The ID of the ImageCollection can be found in the [data catalog](https://developers.google.com/earth-engine/datasets/catalog). The code below loads the MODIS Aqua LST image collection."
      ],
      "metadata": {
        "id": "o_DB8Ct_zvAm"
      }
    },
    {
      "cell_type": "code",
      "source": [
        "# Import the MODIS land surface temperature collection.\n",
        "lst = ee.ImageCollection('MODIS/006/'+sensor)"
      ],
      "metadata": {
        "id": "9bLAfsouup6I"
      },
      "execution_count": null,
      "outputs": []
    },
    {
      "cell_type": "markdown",
      "source": [
        "# Filter image collection\n",
        "We would now like to select specific bands in the image collection using the ***select*** function. For the purpose of this example, we want MODIS LST data. This product has different [bands](https://developers.google.com/earth-engine/datasets/catalog/MODIS_006_MYD11A1). Now let's download LST_Night_1km band. Furthermore, we can use the ***filterDate*** function to filter dates at the same time. Each filter is connected to another using the dot (***.***) operator."
      ],
      "metadata": {
        "id": "GHvFbjckz4HC"
      }
    },
    {
      "cell_type": "code",
      "source": [
        "# Selection of appropriate bands and dates for LST.\n",
        "lst = lst.select(my_variable).filterDate(i_date, f_date)"
      ],
      "metadata": {
        "id": "FNFXKE0guvlc"
      },
      "execution_count": null,
      "outputs": []
    },
    {
      "cell_type": "markdown",
      "source": [
        "# Extract value from image collection\n",
        "In above steps, we loaded the image collection and filtered the image collection to select specific band and time slot. Now we are ready to extract the data at point location. This can be done by applying **getRegion** function.\n",
        "\n",
        "The expression for this function is \n",
        "\n",
        "*ImageCollection*.**getRegion**(*geometry, scale, crs*)\n",
        "\n",
        "- *ImageCollection*: image collection to extract data from.\n",
        "- *geometry*: region over which to extract data.\n",
        "- *scale*: nominal scale in meters of the projection to work in.\n",
        "- *crs*: projection to work in.\n"
      ],
      "metadata": {
        "id": "_MnOGpHt0JwL"
      }
    },
    {
      "cell_type": "code",
      "source": [
        "# Get the data for the pixel intersecting our point.\n",
        "lst_my_point = lst.getRegion(my_point, scale).getInfo()"
      ],
      "metadata": {
        "id": "V2EDeG9EvUAj"
      },
      "execution_count": null,
      "outputs": []
    },
    {
      "cell_type": "code",
      "source": [
        "# Preview first 6 rows of the result.\n",
        "lst_my_point[:6]"
      ],
      "metadata": {
        "id": "Uy0OP4UXuwzX"
      },
      "execution_count": null,
      "outputs": []
    },
    {
      "cell_type": "markdown",
      "source": [
        "# Convert result to dataframe\n",
        "The output is an array. We would like to plot the data using ggplot and export the output as a CSV. To do this, we need data in dataframe format. Now, let's create a function to convert the array to a dataframe. We have already discussed how to define a function in Python. "
      ],
      "metadata": {
        "id": "vKluVMex0V4-"
      }
    },
    {
      "cell_type": "code",
      "source": [
        "import pandas as pd\n",
        "\n",
        "def ee_array_to_df(arr, list_of_bands):\n",
        "    \"\"\"Transforms client-side ee.Image.getRegion array to pandas.DataFrame.\"\"\"\n",
        "    df = pd.DataFrame(arr)\n",
        "\n",
        "    # Rearrange the header.\n",
        "    headers = df.iloc[0]\n",
        "    df = pd.DataFrame(df.values[1:], columns=headers)\n",
        "\n",
        "    # Remove rows without data inside.\n",
        "    df = df[['longitude', 'latitude', 'time', *list_of_bands]].dropna()\n",
        "\n",
        "    # Convert the data to numeric values.\n",
        "    for band in list_of_bands:\n",
        "        df[band] = pd.to_numeric(df[band], errors='coerce')\n",
        "\n",
        "    # Convert the time field into a datetime.\n",
        "    df['datetime'] = pd.to_datetime(df['time'], unit='ms')\n",
        "\n",
        "    # Keep the columns of interest.\n",
        "    df = df[['time','datetime',  *list_of_bands]]\n",
        "\n",
        "    return df"
      ],
      "metadata": {
        "id": "hOIeL7p3v17X"
      },
      "execution_count": null,
      "outputs": []
    },
    {
      "cell_type": "code",
      "source": [
        "# apply function to convert array to dataframe\n",
        "lst_df_my_point = ee_array_to_df(lst_my_point,[my_variable])"
      ],
      "metadata": {
        "id": "-fj5qquM0vaj"
      },
      "execution_count": null,
      "outputs": []
    },
    {
      "cell_type": "markdown",
      "source": [
        "# Convert LST from Kelvin to Degree Celsius\n",
        "MODIS LST data are available in Kelvin with a scale factor of 0.02. But it can be easily converted to an absolute value (degrees Celsius) by using the following conversion:\n",
        "\n",
        "$LST (Degree C)= 0.02 * LST(Kelvin) - 273.15$.\n",
        " \n",
        " Let's do this.We will define a function and apply it over entire dataframe to convert Kelvin to degree Celsius.\n",
        "\n",
        "In python, we use **def** for defining a function. It uses the following components.\n",
        "\n",
        "- keyword **def** that marks the start of the function header.\n",
        "- a function name to uniquely identify the function. \n",
        "- a colon (:) to mark the end of the function header.\n",
        "- optional documentation string (docstring) to describe what the function does.\n",
        "- one or more valid python statements that make up the function body.\n",
        "- statements must have the same indentation level (usually 4 spaces).\n",
        "- optional return statement to return a value from the function.\n"
      ],
      "metadata": {
        "id": "QetD7MJI0fug"
      }
    },
    {
      "cell_type": "code",
      "source": [
        "def t_modis_to_celsius(t_modis):\n",
        "    \"\"\"Converts MODIS LST units to degrees Celsius.\"\"\"\n",
        "    t_celsius =  0.02*t_modis - 273.15\n",
        "    return t_celsius\n",
        "\n",
        "# Apply the function to get temperature in celsius.\n",
        "lst_df_my_point[my_variable] = lst_df_my_point[my_variable].apply(t_modis_to_celsius)"
      ],
      "metadata": {
        "id": "fDNbfH0Yv_5B"
      },
      "execution_count": null,
      "outputs": []
    },
    {
      "cell_type": "code",
      "source": [
        "# visualize head of the output\n",
        "lst_df_my_point.head()"
      ],
      "metadata": {
        "id": "1Km1DO0iwLib"
      },
      "execution_count": null,
      "outputs": []
    },
    {
      "cell_type": "code",
      "source": [
        "# delete first column as we have already converted time to date \n",
        "del lst_df_my_point[\"time\"]\n",
        "lst_df_my_point.head()"
      ],
      "metadata": {
        "id": "ERx91xHKzJiz"
      },
      "execution_count": null,
      "outputs": []
    },
    {
      "cell_type": "markdown",
      "source": [
        "We have already converted time to date, so we can delete the first column."
      ],
      "metadata": {
        "id": "XmdLTE8sAgny"
      }
    },
    {
      "cell_type": "markdown",
      "source": [
        "# Visualize downloaded visualization\n",
        "For this notebook, we will use the python package [plotnine](https://plotnine.readthedocs.io/). Plotnine is an implementation of a grammar of graphics in Python. This package is based on [ggplot2](https://ggplot2.tidyverse.org/) from the [R](https://cran.r-project.org/) programming language. Additionally, we use [mizani](https://mizani.readthedocs.io/), a python library that provides the function necessary to create scales for a graphics system. It is based on the R [scales](https://scales.r-lib.org/) package. The colab notebook already contains both of these packages. They just need to be loaded."
      ],
      "metadata": {
        "id": "Ty7KTiNU09XC"
      }
    },
    {
      "cell_type": "code",
      "source": [
        "# load required packages\n",
        "from plotnine import* # asterisk (*) means load all functions from plotnine\n",
        "from mizani.breaks import date_breaks\n",
        "from mizani.formatters import date_format"
      ],
      "metadata": {
        "id": "zAaH6gRw1MAD"
      },
      "execution_count": null,
      "outputs": []
    },
    {
      "cell_type": "markdown",
      "source": [
        "Let's make a plot. The ggplot funcion uses basic building blocks according to the grammar of graphics as follows\n",
        "\n",
        "- data: data + a set of aesthetic mappings that describe variables mapping\n",
        "- geom: geometric objects represent what you actually see on the plot: points, lines, polygons, etc.\n",
        " More detail about ggplot in python is [here](https://monashdatafluency.github.io/python-workshop-base/modules/plotting_with_ggpl).\n",
        "\n"
      ],
      "metadata": {
        "id": "OeE9zRokQGXN"
      }
    },
    {
      "cell_type": "code",
      "source": [
        "plot_daily_LST=(\n",
        "    ggplot(lst_df_my_point)  # What data to use\n",
        "    + geom_line(aes(x=\"datetime\", y=\"LST_Night_1km\"),colour='red')\n",
        "    +ylab('LST (degree C)')+xlab('Year')\n",
        "    + scale_x_datetime(breaks=date_breaks('2 years'), labels=date_format('%Y-%m'))\n",
        "    +ggtitle(sensor+' '+my_variable+' at lon= '+str(my_lon)+' lat ='+str(my_lat))\n",
        "    +theme(figure_size=(10, 5)) #x,y)\n",
        ")\n",
        "\n",
        "print(plot_daily_LST)"
      ],
      "metadata": {
        "id": "VMHDuybS5zsA"
      },
      "execution_count": null,
      "outputs": []
    },
    {
      "cell_type": "markdown",
      "source": [
        "# Convert daily LST to annual values (MAST)\n",
        "\n",
        "MAST (mean annual surface temperatures) is an important permafrost index, used to detect the presence of permafrost. MAST is derived by aggregating daily LST at an annual scale. \n",
        "\n",
        "Let's take a look at the daily LST conversion. This is done using the resample function. Details about the use of this function is available [here](https://www.earthdatascience.org/courses/use-data-open-source-python/use-time-series-data-in-python/date-time-types-in-pandas-python/resample-time-series-data-pandas-python/).\n",
        "\n",
        "It is necessary to convert the date to an index before using the resample function.\n"
      ],
      "metadata": {
        "id": "d3GTLmKGtyem"
      }
    },
    {
      "cell_type": "code",
      "source": [
        "# convert date colum to index\n",
        "df_lst_my_point = lst_df_my_point.set_index('datetime') \n",
        "\n",
        "# aggregate daily to annual mean values\n",
        "df_annual_LST=df_lst_my_point.resample('Y').mean()\n",
        "\n",
        "# visualize first five rows to check output dataframe\n",
        "df_annual_LST.head()"
      ],
      "metadata": {
        "id": "eTJ3ni0Fya0p"
      },
      "execution_count": null,
      "outputs": []
    },
    {
      "cell_type": "markdown",
      "source": [
        "From the above dataframe, we notice that the datetime column is no more a column but they are now row names. So, let's restructure rows name as a column and produce a plot."
      ],
      "metadata": {
        "id": "STVDu4yn892b"
      }
    },
    {
      "cell_type": "code",
      "source": [
        "# define a column name for row  <if you rerun this line you may get error, in that case run from immediate step>\n",
        "df_annual_LST.index.name = 'Year'\n",
        "\n",
        "# reset index as a column\n",
        "df_annual_LST.reset_index(inplace=True)\n",
        "\n",
        "# visualize  first five rows\n",
        "df_annual_LST.head()"
      ],
      "metadata": {
        "id": "e_TxX1gP7Emc"
      },
      "execution_count": null,
      "outputs": []
    },
    {
      "cell_type": "markdown",
      "source": [
        "Let's visualize the MAST using ggplot."
      ],
      "metadata": {
        "id": "mpzUIE8z53V3"
      }
    },
    {
      "cell_type": "code",
      "source": [
        "plot_MAAT=(\n",
        "    ggplot(df_annual_LST)  # What data to use\n",
        "    + geom_line(aes(x=\"Year\", y=\"LST_Night_1km\"),colour='red')\n",
        "    + geom_point(aes(x=\"Year\", y=\"LST_Night_1km\"),colour='blue')\n",
        "    +ylab('MAST (degree C)')+xlab('Year')\n",
        "    + scale_x_datetime(breaks=date_breaks('1 years'), labels=date_format('%Y'))\n",
        "    +ggtitle('MAST from '+sensor+' '+my_variable+' at lon= '+str(my_lon)+' lat ='+str(my_lat))\n",
        "    +theme(figure_size=(10, 5)) #x,y)\n",
        ")\n",
        "\n",
        "print(plot_MAAT)"
      ],
      "metadata": {
        "id": "wy-c7LV25_nd"
      },
      "execution_count": null,
      "outputs": []
    },
    {
      "cell_type": "markdown",
      "source": [
        "Question: Assess the magnitude and pattern of mean annual land surface temperature (MAST) and discuss how it relates with the permafrost process in a group of 3-4 participants."
      ],
      "metadata": {
        "id": "vV_HsZjxrQ6v"
      }
    },
    {
      "cell_type": "markdown",
      "source": [
        "# Export/download data to local machine\n",
        "Colab also provides a function to download data directly to the local machine. From the **google.colab** package, we can use the **files.download** function to download output.\n"
      ],
      "metadata": {
        "id": "U4oaa91-1N3o"
      }
    },
    {
      "cell_type": "code",
      "source": [
        "# load necessary files\n",
        "from google.colab import files\n",
        "\n",
        "# define output filename\n",
        "my_filename=sensor+'_'+my_variable+'_lon_'+str(my_lon)+'_lat_'+str(my_lat)+'_'+i_date+'_'+f_date+'.csv'\n",
        "print('my file name is: ',my_filename)\n",
        "\n",
        "# Convert dataframe to csv\n",
        "lst_df_my_point.to_csv(my_filename, encoding = 'utf-8-sig') \n",
        "\n",
        "# download csv\n",
        "files.download(my_filename)"
      ],
      "metadata": {
        "id": "S-0z3Fu0yon8"
      },
      "execution_count": null,
      "outputs": []
    },
    {
      "cell_type": "markdown",
      "source": [
        "It is important to evaluate the accuracy and precision of the LST products before we use them. Remote sensing and reanalysis datasets are available along with metadata. Read the metadata carefully before using the data."
      ],
      "metadata": {
        "id": "oh4y7VexodiV"
      }
    },
    {
      "cell_type": "markdown",
      "source": [
        "Assignment:\n",
        "- download MODIS LST data to your own point location over permafrost research site and convert to annual mean series (MAST).\n",
        "- make time series plot of MAST and discuss the nature of the magnitude of data in a group of 3-4 participants.\n",
        "- make a seasonal plot to understand monthly variability of daily LST data and discuss the pattern."
      ],
      "metadata": {
        "id": "6LUIg4fScKzP"
      }
    },
    {
      "cell_type": "markdown",
      "source": [
        ": <h1 align='center'>**THANK YOU**</h1>"
      ],
      "metadata": {
        "id": "_xxJIsz7jnpR"
      }
    }
  ]
}
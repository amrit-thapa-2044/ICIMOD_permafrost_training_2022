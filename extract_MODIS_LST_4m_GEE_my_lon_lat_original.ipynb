{
  "nbformat": 4,
  "nbformat_minor": 0,
  "metadata": {
    "colab": {
      "name": "extract_MODIS_LST_4m_GEE_my_lon_lat_original.ipynb",
      "provenance": [],
      "collapsed_sections": [],
      "toc_visible": true,
      "include_colab_link": true
    },
    "kernelspec": {
      "name": "python3",
      "display_name": "Python 3"
    },
    "language_info": {
      "name": "python"
    }
  },
  "cells": [
    {
      "cell_type": "markdown",
      "metadata": {
        "id": "view-in-github",
        "colab_type": "text"
      },
      "source": [
        "<a href=\"https://colab.research.google.com/github/amrit-thapa-2044/ICIMOD_permafrost_training_2022/blob/main/extract_MODIS_LST_4m_GEE_my_lon_lat_original.ipynb\" target=\"_parent\"><img src=\"https://colab.research.google.com/assets/colab-badge.svg\" alt=\"Open In Colab\"/></a>"
      ]
    },
    {
      "cell_type": "markdown",
      "source": [
        "![MicrosoftTeams-image.png](data:image/png;base64,/9j/4AAQSkZJRgABAQEAYABgAAD/4RDyRXhpZgAATU0AKgAAAAgABAE7AAIAAAANAAAISodpAAQAAAABAAAIWJydAAEAAAAaAAAQ0OocAAcAAAgMAAAAPgAAAAAc6gAAAAgAAAAAAAAAAAAAAAAAAAAAAAAAAAAAAAAAAAAAAAAAAAAAAAAAAAAAAAAAAAAAAAAAAAAAAAAAAAAAAAAAAAAAAAAAAAAAAAAAAAAAAAAAAAAAAAAAAAAAAAAAAAAAAAAAAAAAAAAAAAAAAAAAAAAAAAAAAAAAAAAAAAAAAAAAAAAAAAAAAAAAAAAAAAAAAAAAAAAAAAAAAAAAAAAAAAAAAAAAAAAAAAAAAAAAAAAAAAAAAAAAAAAAAAAAAAAAAAAAAAAAAAAAAAAAAAAAAAAAAAAAAAAAAAAAAAAAAAAAAAAAAAAAAAAAAAAAAAAAAAAAAAAAAAAAAAAAAAAAAAAAAAAAAAAAAAAAAAAAAAAAAAAAAAAAAAAAAAAAAAAAAAAAAAAAAAAAAAAAAAAAAAAAAAAAAAAAAAAAAAAAAAAAAAAAAAAAAAAAAAAAAAAAAAAAAAAAAAAAAAAAAAAAAAAAAAAAAAAAAAAAAAAAAAAAAAAAAAAAAAAAAAAAAAAAAAAAAAAAAAAAAAAAAAAAAAAAAAAAAAAAAAAAAAAAAAAAAAAAAAAAAAAAAAAAAAAAAAAAAAAAAAAAAAAAAAAAAAAAAAAAAAAAAAAAAAAAAAAAAAAAAAAAAAAAAAAAAAAAAAAAAAAAAAAAAAAAAAAAAAAAAAAAAAAAAAAAAAAAAAAAAAAAAAAAAAAAAAAAAAAAAAAAAAAAAAAAAAAAAAAAAAAAAAAAAAAAAAAAAAAAAAAAAAAAAAAAAAAAAAAAAAAAAAAAAAAAAAAAAAAAAAAAAAAAAAAAAAAAAAAAAAAAAAAAAAAAAAAAAAAAAAAAAAAAAAAAAAAAAAAAAAAAAAAAAAAAAAAAAAAAAAAAAAAAAAAAAAAAAAAAAAAAAAAAAAAAAAAAAAAAAAAAAAAAAAAAAAAAAAAAAAAAAAAAAAAAAAAAAAAAAAAAAAAAAAAAAAAAAAAAAAAAAAAAAAAAAAAAAAAAAAAAAAAAAAAAAAAAAAAAAAAAAAAAAAAAAAAAAAAAAAAAAAAAAAAAAAAAAAAAAAAAAAAAAAAAAAAAAAAAAAAAAAAAAAAAAAAAAAAAAAAAAAAAAAAAAAAAAAAAAAAAAAAAAAAAAAAAAAAAAAAAAAAAAAAAAAAAAAAAAAAAAAAAAAAAAAAAAAAAAAAAAAAAAAAAAAAAAAAAAAAAAAAAAAAAAAAAAAAAAAAAAAAAAAAAAAAAAAAAAAAAAAAAAAAAAAAAAAAAAAAAAAAAAAAAAAAAAAAAAAAAAAAAAAAAAAAAAAAAAAAAAAAAAAAAAAAAAAAAAAAAAAAAAAAAAAAAAAAAAAAAAAAAAAAAAAAAAAAAAAAAAAAAAAAAAAAAAAAAAAAAAAAAAAAAAAAAAAAAAAAAAAAAAAAAAAAAAAAAAAAAAAAAAAAAAAAAAAAAAAAAAAAAAAAAAAAAAAAAAAAAAAAAAAAAAAAAAAAAAAAAAAAAAAAAAAAAAAAAAAAAAAAAAAAAAAAAAAAAAAAAAAAAAAAAAAAAAAAAAAAAAAAAAAAAAAAAAAAAAAAAAAAAAAAAAAAAAAAAAAAAAAAAAAAAAAAAAAAAAAAAAAAAAAAAAAAAAAAAAAAAAAAAAAAAAAAAAAAAAAAAAAAAAAAAAAAAAAAAAAAAAAAAAAAAAAAAAAAAAAAAAAAAAAAAAAAAAAAAAAAAAAAAAAAAAAAAAAAAAAAAAAAAAAAAAAAAAAAAAAAAAAAAAAAAAAAAAAAAAAAAAAAAAAAAAAAAAAAAAAAAAAAAAAAAAAAAAAAAAAAAAAAAAAAAAAAAAAAAAAAAAAAAAAAAAAAAAAAAAAAAAAAAAAAAAAAAAAAAAAAAAAAAAAAAAAAAAAAAAAAAAAAAAAAAAAAAAAAAAAAAAAAAAAAAAAAAAAAAAAAAAAAAAAAAAAAAAAAAAAAAAAAAAAAAAAAAAAAAAAAAAAAAAAAAAAAAAAAAAAAAAAAAAAAAAAAAAAAAAAAAAAAAAAAAAAAAAAAAAAAAAAAAAAAAAAAAAAAAAAAAAAAAAAAAAAAAAAAAAAAAAAAAAAAAAAAAAAAAAAAAAAAAAAAAAAAAAAAAAAAAAAAAAAAAAAAAAAAAAAAAAAAAAAAAAAAAAAAAAAAAAAAAAAAAAAAAAAAAAAAAAAAAAAAAAAAAAAAAAAAAAAAAAAAAAAAAAAAAAAAAAAAAAAAAAAAAAAAAAAAAAAAAAAAAAAAAAAAAAAAAAAAAAAAAAAAAAAAAAAAAAAAAAAAAAAAAAAAAAAAAAAAAAAAAAAAAAAAAAAAAAAAAAAAAAAAAAAAAAAAAAAAAAAAAAAAAAAAAAAAAAAAAAAAAAAAAAAAAAAAAAAAAAAAAAAAAAAAAAAAAAAAAAAAAAAAAAAAAAAAAAAAAAAAAAAAAAAAAAAAAAAAAAAAAAAAAAAAAAAAAAAAAAAAAAAAAAAAAAAAAAAAAAAAAAAAAAAAAAAAAAAAAAAAAAAAAAAAAAAAAAAAAAAAAAAAAAAAAAAAAAAAAAAAAAAAAAAAAAAAAAAAAAAAAAAAAAAAAAAAAAAAAAAAAAAAAAAAAAAAAAAAAAAAAAAAAAAAAAAAAAAAAAAAAAAAAAAAAAAAAAAAAAAAAAAAAAAAAAAAAAAAAAAAAAAAAAAAAAAAAAAAAAAAAAAAAAAAAAAAAAAAAAAAAAAAAAAAAAAAAAAAAAAAAAAAAAAAAAAAAAAAAAAAAAAAAAAAAAAAAAAAAAAAAAAAAAENoaW1pIFNlbGRvbgAAAAWQAwACAAAAFAAAEKaQBAACAAAAFAAAELqSkQACAAAAAzI0AACSkgACAAAAAzI0AADqHAAHAAAIDAAACJoAAAAAHOoAAAAIAAAAAAAAAAAAAAAAAAAAAAAAAAAAAAAAAAAAAAAAAAAAAAAAAAAAAAAAAAAAAAAAAAAAAAAAAAAAAAAAAAAAAAAAAAAAAAAAAAAAAAAAAAAAAAAAAAAAAAAAAAAAAAAAAAAAAAAAAAAAAAAAAAAAAAAAAAAAAAAAAAAAAAAAAAAAAAAAAAAAAAAAAAAAAAAAAAAAAAAAAAAAAAAAAAAAAAAAAAAAAAAAAAAAAAAAAAAAAAAAAAAAAAAAAAAAAAAAAAAAAAAAAAAAAAAAAAAAAAAAAAAAAAAAAAAAAAAAAAAAAAAAAAAAAAAAAAAAAAAAAAAAAAAAAAAAAAAAAAAAAAAAAAAAAAAAAAAAAAAAAAAAAAAAAAAAAAAAAAAAAAAAAAAAAAAAAAAAAAAAAAAAAAAAAAAAAAAAAAAAAAAAAAAAAAAAAAAAAAAAAAAAAAAAAAAAAAAAAAAAAAAAAAAAAAAAAAAAAAAAAAAAAAAAAAAAAAAAAAAAAAAAAAAAAAAAAAAAAAAAAAAAAAAAAAAAAAAAAAAAAAAAAAAAAAAAAAAAAAAAAAAAAAAAAAAAAAAAAAAAAAAAAAAAAAAAAAAAAAAAAAAAAAAAAAAAAAAAAAAAAAAAAAAAAAAAAAAAAAAAAAAAAAAAAAAAAAAAAAAAAAAAAAAAAAAAAAAAAAAAAAAAAAAAAAAAAAAAAAAAAAAAAAAAAAAAAAAAAAAAAAAAAAAAAAAAAAAAAAAAAAAAAAAAAAAAAAAAAAAAAAAAAAAAAAAAAAAAAAAAAAAAAAAAAAAAAAAAAAAAAAAAAAAAAAAAAAAAAAAAAAAAAAAAAAAAAAAAAAAAAAAAAAAAAAAAAAAAAAAAAAAAAAAAAAAAAAAAAAAAAAAAAAAAAAAAAAAAAAAAAAAAAAAAAAAAAAAAAAAAAAAAAAAAAAAAAAAAAAAAAAAAAAAAAAAAAAAAAAAAAAAAAAAAAAAAAAAAAAAAAAAAAAAAAAAAAAAAAAAAAAAAAAAAAAAAAAAAAAAAAAAAAAAAAAAAAAAAAAAAAAAAAAAAAAAAAAAAAAAAAAAAAAAAAAAAAAAAAAAAAAAAAAAAAAAAAAAAAAAAAAAAAAAAAAAAAAAAAAAAAAAAAAAAAAAAAAAAAAAAAAAAAAAAAAAAAAAAAAAAAAAAAAAAAAAAAAAAAAAAAAAAAAAAAAAAAAAAAAAAAAAAAAAAAAAAAAAAAAAAAAAAAAAAAAAAAAAAAAAAAAAAAAAAAAAAAAAAAAAAAAAAAAAAAAAAAAAAAAAAAAAAAAAAAAAAAAAAAAAAAAAAAAAAAAAAAAAAAAAAAAAAAAAAAAAAAAAAAAAAAAAAAAAAAAAAAAAAAAAAAAAAAAAAAAAAAAAAAAAAAAAAAAAAAAAAAAAAAAAAAAAAAAAAAAAAAAAAAAAAAAAAAAAAAAAAAAAAAAAAAAAAAAAAAAAAAAAAAAAAAAAAAAAAAAAAAAAAAAAAAAAAAAAAAAAAAAAAAAAAAAAAAAAAAAAAAAAAAAAAAAAAAAAAAAAAAAAAAAAAAAAAAAAAAAAAAAAAAAAAAAAAAAAAAAAAAAAAAAAAAAAAAAAAAAAAAAAAAAAAAAAAAAAAAAAAAAAAAAAAAAAAAAAAAAAAAAAAAAAAAAAAAAAAAAAAAAAAAAAAAAAAAAAAAAAAAAAAAAAAAAAAAAAAAAAAAAAAAAAAAAAAAAAAAAAAAAAAAAAAAAAAAAAAAAAAAAAAAAAAAAAAAAAAAAAAAAAAAAAAAAAAAAAAAAAAAAAAAAAAAAAAAAAAAAAAAAAAAAAAAAAAAAAAAAAAAAAAAAAAAAAAAAAAAAAAAAAAAAAAAAAAAAAAAAAAAAAAAAAAAAAAAAAAAAAAAAAAAAAAAAAAAAAAAAAAAAAAAAAAAAAAAAAAAAAAAAAAAAAAAAAAAAAAAAAAAAAAAAAAAAAAAAAAAAAAAAAAAAAAAAAAAAAAAAAAAAAAAAAAAAAAAAAAAAAAAAAAAAAAAAAAAAAAAAAAAAAAAAAAAAAAAAAAAAAAAAAAAAAAAAAAAAAAAAAAAAAAAAAAAAAAAAAAAAAAAAAAAAAAAAAAAAAAAAAAAAAAAAAAAAAAAAAAAAAAAAAAAAAAAAAAAAAAAAAAAAAAAAAAAAAAAAAAAAAAAAAAAAAAAAAAAAAAAAAAAAAAAAAAAAAAAAAAAAAAAAAAAAAAAAAAAAAAAAAAAAAAAAAAAAAAAAAAAAAAAAAAAAAAAAAAAAAAAAAAAAAAAAAAAAAAAAAAAAAAAAAAAAAAAAAAAAAAAAAAAAAAAAAAAAAAAAAAAAAAAAAAAAAAAAAAAAAAAAAAAAAAAAAAAAAAAAAAAAAAAAAAAAAAAAAAAAAAAAAAAAAAAAAAAAAAAAAAAAAAAAAAAAAAAAAAAAAAAAAAAAAAAAAAAAAAAAAAAAAAAAAAAAAAAAAAAAAAAAAAAAAAAAAAAAAAAAAAAAAAAAAAAAAAAAAAAAAAAAAAAAAAAAAAAAAAAAAAAAAAAAAAAAAAAAAAAAAAAAAAAAAAAAAAAAAAAAAAAAAAAAAAAAAAAAAAAAAAAAAAAAAAAAAAAAAAAAAAAAAAAAAAAAAAAAAAAAAAAAAAAAAAAAAAAAAAAAAAAAAAAAAAAAAAAAAAAAAAAAAAAAAAAAAAAAAAAAAAAAAAAAAAAAAAAAAAAAAAAAAAAAAAAAAAAAAAAAAAAAAAAAAAAAAAAAAAAAAAAAAAAAAAAAAyMDIyOjA2OjA5IDE0OjU5OjI1ADIwMjI6MDY6MDkgMTQ6NTk6MjUAAABDAGgAaQBtAGkAIABTAGUAbABkAG8AbgAAAP/hCx9odHRwOi8vbnMuYWRvYmUuY29tL3hhcC8xLjAvADw/eHBhY2tldCBiZWdpbj0n77u/JyBpZD0nVzVNME1wQ2VoaUh6cmVTek5UY3prYzlkJz8+DQo8eDp4bXBtZXRhIHhtbG5zOng9ImFkb2JlOm5zOm1ldGEvIj48cmRmOlJERiB4bWxuczpyZGY9Imh0dHA6Ly93d3cudzMub3JnLzE5OTkvMDIvMjItcmRmLXN5bnRheC1ucyMiPjxyZGY6RGVzY3JpcHRpb24gcmRmOmFib3V0PSJ1dWlkOmZhZjViZGQ1LWJhM2QtMTFkYS1hZDMxLWQzM2Q3NTE4MmYxYiIgeG1sbnM6ZGM9Imh0dHA6Ly9wdXJsLm9yZy9kYy9lbGVtZW50cy8xLjEvIi8+PHJkZjpEZXNjcmlwdGlvbiByZGY6YWJvdXQ9InV1aWQ6ZmFmNWJkZDUtYmEzZC0xMWRhLWFkMzEtZDMzZDc1MTgyZjFiIiB4bWxuczp4bXA9Imh0dHA6Ly9ucy5hZG9iZS5jb20veGFwLzEuMC8iPjx4bXA6Q3JlYXRlRGF0ZT4yMDIyLTA2LTA5VDE0OjU5OjI1LjI0MTwveG1wOkNyZWF0ZURhdGU+PC9yZGY6RGVzY3JpcHRpb24+PHJkZjpEZXNjcmlwdGlvbiByZGY6YWJvdXQ9InV1aWQ6ZmFmNWJkZDUtYmEzZC0xMWRhLWFkMzEtZDMzZDc1MTgyZjFiIiB4bWxuczpkYz0iaHR0cDovL3B1cmwub3JnL2RjL2VsZW1lbnRzLzEuMS8iPjxkYzpjcmVhdG9yPjxyZGY6U2VxIHhtbG5zOnJkZj0iaHR0cDovL3d3dy53My5vcmcvMTk5OS8wMi8yMi1yZGYtc3ludGF4LW5zIyI+PHJkZjpsaT5DaGltaSBTZWxkb248L3JkZjpsaT48L3JkZjpTZXE+DQoJCQk8L2RjOmNyZWF0b3I+PC9yZGY6RGVzY3JpcHRpb24+PC9yZGY6UkRGPjwveDp4bXBtZXRhPg0KICAgICAgICAgICAgICAgICAgICAgICAgICAgICAgICAgICAgICAgICAgICAgICAgICAgICAgICAgICAgICAgICAgICAgICAgICAgICAgICAgICAgICAgICAgICAgICAgICAgIAogICAgICAgICAgICAgICAgICAgICAgICAgICAgICAgICAgICAgICAgICAgICAgICAgICAgICAgICAgICAgICAgICAgICAgICAgICAgICAgICAgICAgICAgICAgICAgICAgICAgCiAgICAgICAgICAgICAgICAgICAgICAgICAgICAgICAgICAgICAgICAgICAgICAgICAgICAgICAgICAgICAgICAgICAgICAgICAgICAgICAgICAgICAgICAgICAgICAgICAgICAKICAgICAgICAgICAgICAgICAgICAgICAgICAgICAgICAgICAgICAgICAgICAgICAgICAgICAgICAgICAgICAgICAgICAgICAgICAgICAgICAgICAgICAgICAgICAgICAgICAgIAogICAgICAgICAgICAgICAgICAgICAgICAgICAgICAgICAgICAgICAgICAgICAgICAgICAgICAgICAgICAgICAgICAgICAgICAgICAgICAgICAgICAgICAgICAgICAgICAgICAgCiAgICAgICAgICAgICAgICAgICAgICAgICAgICAgICAgICAgICAgICAgICAgICAgICAgICAgICAgICAgICAgICAgICAgICAgICAgICAgICAgICAgICAgICAgICAgICAgICAgICAKICAgICAgICAgICAgICAgICAgICAgICAgICAgICAgICAgICAgICAgICAgICAgICAgICAgICAgICAgICAgICAgICAgICAgICAgICAgICAgICAgICAgICAgICAgICAgICAgICAgIAogICAgICAgICAgICAgICAgICAgICAgICAgICAgICAgICAgICAgICAgICAgICAgICAgICAgICAgICAgICAgICAgICAgICAgICAgICAgICAgICAgICAgICAgICAgICAgICAgICAgCiAgICAgICAgICAgICAgICAgICAgICAgICAgICAgICAgICAgICAgICAgICAgICAgICAgICAgICAgICAgICAgICAgICAgICAgICAgICAgICAgICAgICAgICAgICAgICAgICAgICAKICAgICAgICAgICAgICAgICAgICAgICAgICAgICAgICAgICAgICAgICAgICAgICAgICAgICAgICAgICAgICAgICAgICAgICAgICAgICAgICAgICAgICAgICAgICAgICAgICAgIAogICAgICAgICAgICAgICAgICAgICAgICAgICAgICAgICAgICAgICAgICAgICAgICAgICAgICAgICAgICAgICAgICAgICAgICAgICAgICAgICAgICAgICAgICAgICAgICAgICAgCiAgICAgICAgICAgICAgICAgICAgICAgICAgICAgICAgICAgICAgICAgICAgICAgICAgICAgICAgICAgICAgICAgICAgICAgICAgICAgICAgICAgICAgICAgICAgICAgICAgICAKICAgICAgICAgICAgICAgICAgICAgICAgICAgICAgICAgICAgICAgICAgICAgICAgICAgICAgICAgICAgICAgICAgICAgICAgICAgICAgICAgICAgICAgICAgICAgICAgICAgIAogICAgICAgICAgICAgICAgICAgICAgICAgICAgICAgICAgICAgICAgICAgICAgICAgICAgICAgICAgICAgICAgICAgICAgICAgICAgICAgICAgICAgICAgICAgICAgICAgICAgCiAgICAgICAgICAgICAgICAgICAgICAgICAgICAgICAgICAgICAgICAgICAgICAgICAgICAgICAgICAgICAgICAgICAgICAgICAgICAgICAgICAgICAgICAgICAgICAgICAgICAKICAgICAgICAgICAgICAgICAgICAgICAgICAgICAgICAgICAgICAgICAgICAgICAgICAgICAgICAgICAgICAgICAgICAgICAgICAgICAgICAgICAgICAgICAgICAgICAgICAgIAogICAgICAgICAgICAgICAgICAgICAgICAgICAgICAgICAgICAgICAgICAgICAgICAgICAgICAgICAgICAgICAgICAgICAgICAgICAgICAgICAgICAgICAgICAgICAgICAgICAgCiAgICAgICAgICAgICAgICAgICAgICAgICAgICAgICAgICAgICAgICAgICAgICAgICAgICAgICAgICAgICAgICAgICAgICAgICAgICAgICAgICAgICAgICAgICAgICAgICAgICAKICAgICAgICAgICAgICAgICAgICAgICAgICAgICAgICAgICAgICAgICAgICAgICAgICAgICAgICAgICAgICAgICAgICAgICAgICAgICAgICAgICAgICAgICAgICAgICAgICAgIAogICAgICAgICAgICAgICAgICAgICAgICAgICAgICAgICAgICAgICAgICAgICAgICAgICAgICAgICAgICAgICAgICAgICAgICAgICAgICAgICAgICAgICAgICAgICAgICAgICAgCiAgICAgICAgICAgICAgICAgICAgICAgICAgICA8P3hwYWNrZXQgZW5kPSd3Jz8+/9sAQwAHBQUGBQQHBgUGCAcHCAoRCwoJCQoVDxAMERgVGhkYFRgXGx4nIRsdJR0XGCIuIiUoKSssKxogLzMvKjInKisq/9sAQwEHCAgKCQoUCwsUKhwYHCoqKioqKioqKioqKioqKioqKioqKioqKioqKioqKioqKioqKioqKioqKioqKioqKioq/8AAEQgAdgQ3AwEiAAIRAQMRAf/EAB8AAAEFAQEBAQEBAAAAAAAAAAABAgMEBQYHCAkKC//EALUQAAIBAwMCBAMFBQQEAAABfQECAwAEEQUSITFBBhNRYQcicRQygZGhCCNCscEVUtHwJDNicoIJChYXGBkaJSYnKCkqNDU2Nzg5OkNERUZHSElKU1RVVldYWVpjZGVmZ2hpanN0dXZ3eHl6g4SFhoeIiYqSk5SVlpeYmZqio6Slpqeoqaqys7S1tre4ubrCw8TFxsfIycrS09TV1tfY2drh4uPk5ebn6Onq8fLz9PX29/j5+v/EAB8BAAMBAQEBAQEBAQEAAAAAAAABAgMEBQYHCAkKC//EALURAAIBAgQEAwQHBQQEAAECdwABAgMRBAUhMQYSQVEHYXETIjKBCBRCkaGxwQkjM1LwFWJy0QoWJDThJfEXGBkaJicoKSo1Njc4OTpDREVGR0hJSlNUVVZXWFlaY2RlZmdoaWpzdHV2d3h5eoKDhIWGh4iJipKTlJWWl5iZmqKjpKWmp6ipqrKztLW2t7i5usLDxMXGx8jJytLT1NXW19jZ2uLj5OXm5+jp6vLz9PX29/j5+v/aAAwDAQACEQMRAD8A+kaKKKACiiigAooooAKKKKACiiigAooooAKKKKACiiigAooooAKKKKACiiigAooooAKKKKACiiigAooooAKKKKACiiigAooooAKKKKACiiigAooooAKKKKACiiigAooooAKKKKACiiigAooooAKKKKACiiigAooooAKKKKACiiigAooooAKKKKACiiigAooooAKKKKACiiigAooooAKKKKACiiigAooooAKKKKACiiigAooooAKKKKACiiigAooooAKKKKACiiigAooooAKKKKACiiigAooooAKKKKACiiigAooooAKKKKACiiigAooooAKKKKACiiigAooqpqGqWmlRRyX0yxLJII1J7k/096aTbshNpast0UUUhhRRRQAUUUUAFFFFABRRRQAUUUUAFFFFABRRRQAUUUUAFFFFABRRRQAUUUUAFFFFABRRRQAUUUUAFFFFABRRRQAUUUUAFFFFABRRRQAUUUUAFFFFABRRRQAUUUUAFFFFABRRRQAUUUUAFFFFABRRRQAUUUUAFFFFABRRRQAUUUUAFFFFABRRRQAUUUUAFFFFABRRRQAUUUUAFFFFABRSMyopZyFVRkknAArhNV+LOjWwkTR7a61d1B2yQKqwlgOPncjcM91DCplKMVeTsaU6VSq+WnFt+Rva5410Hw9dLa6nekXLDd5EMTyuo9WCA7RxwTjPasi6+K/hiGzeS3muLi5ztjtPs0kbyt143qBjHJOcD68V43Dqi3K/a5Xku769LTyhULSSP/ESvYL054UADgCrekaLeeLNVhgtbuysnt2acF905wAUP3cI33/4XP4VyQrVqs2qcND2auBweGpxlXq+9pojsG+KfiU3fmrZaUlv1+ykSM/083cB+Oyuosfix4buLEPfST2V4pCy2ZgeV1PqNgIKns3A9cHIHASeF4YpzFL4wtFKv5bP/ZreWr5xtL+ZtByQME5rM1Xw3qHhzW5IXu7HUJbmE3BC5t2WNMLk7tyqMn+JwM9+1EY4yN3JJhUeUVXGNOTh3dn+p7Ro3jnw/r199jsL1hdEZWGeF4WcYz8u8Dd74ziugr5nubuOEOLlpdPurYCdfMXZJEV5Ei+uD0K5Br1XQfi3p1xZ2q+ILO8024aJPOnaINDvIGfuMWUZ/vAAetVRxHNdVFysxxmXeytPDvni+q1t62PQ6KZDNFcQJNbyJLFIoZJEYMrA8ggjqKfXWeQFFFFABRRRQAUUUUAFFFFABRRRQAUUUUAFFFFABRRRQAUUUUAFFFFABRRRQAUUUUAFFFFABRRRQAUUUUAFFFFABRRRQAUUUUAFFFFABRRRQAUUUUAFFFFAB0rzfxBfw61fzXTgzWdv+7gQc7+cMwHPLNgA+g7HBHS+MNUa2sBp9qx+1XilQV/gT+Jvb0HTr7V5tq155csVpaNtitsEAEH5sZ9BnGcc/jzmvRwlJv3jjxFRLQ9K8HawdQ0v7JdfLeWeEkQnJK/wn344/D3roq8r03Wfsd9aa1Ch8vmG6RfvMMAscAYwuVIJPoK9SikSaJJImDI6hlYdwehrnxFPklfozWjPmjbsOooormNwooooAKKKKACiiigAooooAKKKKACiivIf+bmP8/8APnW9Gj7Xm1tZN/cYVq3suXS92l9569RRXmHjPx5qt14g/wCEX8EqWvN2ya4UAkN3Vc8ADux6e2M0qNGVaXLH/hh1a0aUeaX/AA56fRXko+FPie5jFxe+LZBedcb5HAJ/29wP6V1fgCy8S6ZDf2Piq4e5MLp9mmZ/MDKQc4Y8nkdDyK0qUacYuUZp2M6dapKVpQaudfRXIfFX/kmeq/8AbH/0clY/wQ/5Em7/AOwi/wD6LjpKheg619naw3XtXVG26vc9HoorlfiN4h/4R3wZdTRPtubn/R4MHBDMOSPoMn64rGnB1JqC3ZtUmqcXN7I6qiuS+G3iX/hJPCMLTvuvLTEFxk8kgcN+I/XNdFqmowaRpVzqF422G2jMj++Ow9z0pzpyhN03uKFSM4Ka2LdFeZ/Cvxrc6/qWq2WqSbp5ZDdwAnO1TgMg9h8uPqa9Mqq1GVGfJIVGtGtDnjsFFVdT1G20jTLi/v5PLt7dC7t7eg9SegHrXkceqeMvidqE/wDY07aTpETbdyuUH0LDlmx2HA4/GqOHdVOTdorqyK1dU2opXb6I9morySf4Z+L9Lj+1aL4pluLlPm8syPHu9gSxB/HArZ+H/wAQLnVr19A8Sp5Grw5Csy7PO29QV7MOvHBGfStJYZcjnTkpJb9yI4l86hUi4t7dj0KiivBNIsvEvi3xZq1lp/iG6tfs0sj/AD3Mm3G/AAANRQoKqpNyskVWruk4pRu2e90V41et8RvACi9ur/8AtbT0b94XkMygZ/i3AOv1HFemeFfE1p4r0KPUbMbCTslhJyYnHVT69evoadXDSpx500490FLEKpLkaal2Zs0UUVynSFFFFABRRRQAUUUUAFFFFABRRRQAUUUUAFFFFABRRRQAUUUUAFFFFABRRRQAUUUUAFFFFABRRRQAUUUUAFFFFABRRRQAUUUUAFFFFABRRRQAUUVFd3C2llPcuCVhjaQgdwBmgDhPi9r1rp/hmHSpLyKGXU7hInjMoVjCMsxxnO0lQhPT58d68ovJ5fLkisDGJUhMrSOfkiXHBPqSRhR3PsCRLPfPdR3Gsas3mXFypnuXIz2ztH+yBwB6CrejeEdS0u3S+1aMafYWwkv7kW4DGQheYgAdpwuU2uMctjJY486EFjK138MT6WrUllGE5U1zz19Bul6HeW1jDJ9qtYtOvphlYvnuL+QrngDLOwILBchPvHG3mu70zwjcWkL3Nna6f4cTymAKp510AR/FKTtQZySo3jJzuzmqnhbXo2jOs3Wh6i13cApEiRxBLOEHAhQbxjpljjJb2CgWtd8VW2q21xp89jdQWkMazahHP5eZo2bbHbqAx+aZ/k56jf3rerVrOfJRVo9z5z2M2uerds4iy1vW1+KeiLFo5/sRdEjt2037TAWkt5IfMkbyWbexLrndwSEPBJNdlZ+HdQ1DwbpjXi2GtxtZxP5MvEqEqD+7uBw2OxKjJAJYdajW7aTQZVm0rUo9ZnmF615HHFhLoYKkYkBKKFVMHqi7T1NWtG8ULpkccX9m3b296XlghgCk2soP7+A7mHCudy+qtwMLU1Kle16atZ/eU6L2kjkdd0kSQZit5brS4JALnTJIgl3p7no6Hjk4HzbiGPOWBIObLFJYXSW086XUUyl7S9jHyXKA4PTjcp6gccgjg13XinxDE1g+qQaLqMV7ZxsUeRItsqdWhf8Aecq3TocHBAz15keHYNZ0NtKt0/d3w+3WpujukiuQCCsgBIXlWjYEBTk4OflGjp/W6dpq0v6/A6sHi62W1eb7L3X6+qOy+D2t29xpmoaMt7DK9ncl4YVcEpE4BIAz0D7/AKZAr0ivmuzlfyrW+0/dZXcHzwOo2tA44I/mCOhGQa+hdB1P+2vDunaoE8v7bax3Gz+7vUNj8M4qMLW548r3R05rhPYVVUTvGeq/r5l+iiius8gKKKKACiiigAooooAKKKKACiiigAooooAKKKKACiiigAooooAKKKKACiiigAooooAKKKKACiiigAooooAKKKKACiiigAooooAKKKKAA1xuoeLdT07WZbGe2tkC5KSMGwy4JB698Y+tdlXL+NtMjuLGK+MRka3YB8f88z1zj06/nXJi/aKnzU3Zo7sC6TrclVXT0+ZQHjTUCxATTiB1PmN7f4ioZ/H19AoJt7N85+4zHHT/ABrj542t5niJI5/MdqfYW/2q8Csu9IxvdR3GQMe/J6CvJwtbEYitGkpWv/TPexWGwuGoSrSinb8exoajq93NcyXtyYxc3ShRGF/1abTgA4I/iyV45xWD9mU9WYmu68M6Nb+IJby71KBnhjPkwfMQDySzZGMnP86b4g8MWOly2z26SNExJcM55284z7j+VezmGKxVN3w8uWK0frt2PDy3D4Oa5cTHmk9V2ta/c5a2snFmyxXkSLMPmRyARyRx6f4Gun0TxJdaVpMNnvtJwnEbPKQcEng8dq2brwRpi6fO1vA/2nyT5eJGwHxxgE+vrXAR2ySaRMyjF1DJyGcZYYJI28Y4Ge/Q1jFZjXfJKavv+nb+rm0pZZSXPGm7Xt6de/8AVjtf+E2uuP3Fkc4/5bt3/CoZviBPCFP2O3k3f3JicfXj3rhgcjIrZ0uwe5mtrJA2bxx5pA5RAcn9Oc/hXjRxmJk+VPU9uWAwkI87jp8/8z0Tw/qtxrGn/a7i2FurMRGAxO4Dv+f8q1aZDEkEKRQqFjRQqqOwFPr6SmpRilJ3Z8lUlGU24qy7BRRRVmYUUUUAFFFFABRRRQAV5D/zcx/n/nzr16vIf+bmP8/8+dd+D/5ef4WcOM/5d/4kesXkrQWM8qfejjZhn1AzXlfwQtI5hrGqTN5l00ix7mOWAOWJ/E4/KvWWUOpVhlWGCD3FeJaZeXHwl8dXVpqMMj6PfH5JVGcoCdrj1K5II68/TLwqc6VSnH4nb52FiWoVadSXwq/yvse3UVjweL/DtxZ/aotbsPJxks1wqlfqCcg+xpugeKtO8Sz3q6S7SxWbqjTYwrk5+77cda43Tmk21sdntINpJ7mV8Vf+SZ6r/wBsf/RyVj/BD/kSbv8A7CL/APouOtj4q/8AJM9V/wC2P/o5Kx/gh/yJN3/2EX/9Fx13R/3CX+L/ACOCX+/R/wAP+Z6PXjnjd38bfFOw8N27E2lmdsxXPB+9IfwUAD3+teo+ItYi0Dw7e6nNgi3iLKp/iboo/EkCvPvg1o0sseoeJr/L3F5I0cbt1YZy7fi3H/ATUYX91CVd9NF6v/I0xP7ycaC66v0X+Zk2ZPwz+LTWrEppGo4Ckn5VRj8p/wCANx9M+taXxb1q41HULHwhpPzzXDo86juSfkU/+hH8K6H4qeGf7f8ACT3Fum680/M0WByy4+dfyGfqorlPhBoU2p6nc+KdWZ53j/c27ynJZ8YZufRcKPqfSuuE6coLFS+KKt6vozlnCcZvCx+GWvouqM/xFon/AArHxdoOraeGe12Ksx5+dlG2T6blOR759K9uhljuIEmhcPHIoZGHRgRkGub+IXh//hI/Bt3bxpuuYR59v6717fiMj8ayPhD4g/tbwj9gmfdcaa3lcnkxnlD/ADX/AIDXLVbr4dVXvHR+nQ6aSVCu6a2lqvXqV/jZcyw+DLaKNtqT3irIP7wCscfmAfwrq/BljBp3gvSYLXbs+yxyFl6OzKGLfiSTVT4geG38UeEZ7O2AN1Ewntwe7rnj8QSPxrkPh58Q7Sx09PD/AInk+w3Nl+6jlmG1So/hb+6R054wKai6uEShunqv1E5Knim57NaP9D1WvH/iPCul/FTQNSsyI552iMgXuVkxk/UHH4V6HqPjXw5plobi41izZdu5VhmWRnHsqkk15poSXnxL+Ji69NA8Ol6e6lA3YIcome5J+Y+mfpRg4Sg5VZaRSfz8gxc4zUaUdZNr5eZ7RXkHwp/5KH4j+kn/AKNr1+vFPh1q2n6R4+8QSapewWiOZFVppAgY+b0GanDJujVS7L8ysS0q1Jvu/wAj2e4t4ru1lt7hBJFKhR0YcMCMEV5P8GN1prniCwSTfBGVwc8EqzLn8R/Stfxh8VtKsNMlt/D1yL7UJVKo8QOyLP8AFnuR2AqX4S+FrjQtCnv9RjaK71Aq3lv95Ixnbn0JyTj6VUYSpYaftNOa1kTKcauJhya8t7noFFFFecegFFFFABRRRQAUUUUAFFFFABRRRQAUUUUAFFFFABRRRQAUUUUAFFFFABRRRQAUUUUAFFFFABRRRQAUUUUAFFFFABRRRQAUUUUAFFFFABRRRQAVkeKdXt9D8L31/dxGZEj2rCP+WrMdqp+LMBntmteuX+Iul3Oq+CrlLGNpp7d0uFiXrIEYFlHqducDucVMm1FtGlNRc0pOyvqeDw2N3M2naVqHlz2s00Uc0sTsjmNTufj3VTyD+Fdh4Lt47qOztrPVotTsrvUEaSOKPy1gWNGnIO0kMxkCKeeh564PNxT215f6ckVzH/pE3lIVfkmSN0GO/Vh711fw8vIx/Zvl3EVxCdRnt0aFmYKWgaT5sooUnYeANuSMYzg8WFbWFqNb2Z6mff71CKd1ZfqbWulPCuuTTyK/9naluljCLnZcgZaMDqTIBuAA+8r+orkfGOrah4a8K6hqsKQS3Wlyxz3Ky7mjkvJGSMpwRlIY32DB5YsSMrXdeIb+W+1eO3slSRrOdY7YOu5XvmXcpIzysMeZW9yuORivPvGtnd3/AMF9S0yzspptShaOG4toVaWQzLOhkPAy2eX3Y5BDd62wsm6aUt/0OanJzTX8qdvX/gFt/iKU03w9b2lkNS1/V7aC4eyt22rErqrO7E52qMnGa39QtQt5iORIlvZU2yNjbbXoGIZD7OD5TdyGX6151ZeEvEfhPTtL8Q+DLUTX15ptvb6hp14p3JJ5agOM4K7WxuXIxj8uq0fwv/wjXhnUH1eeXV9Y1dgLpi5/fzN8qRoP4QCcA8YHPAAA6+mp0vmnFqX/AAx0Wit/wlmr26tE8VpprCa+hfBIulPywNjIyjAu2D1WPqDWf4mtbrTvEl1PpESyz2t1Fe7FtvMdIZwVYDYpfaZYXY4I+83XgDZ0C9vNK1gw6uV82eRLbUGU8G52gQ3A4HyzRrtPQCRNoySTWD8SNMttS1HV3urY3EfkWEAYSBPIeN7iRmLE8fJKBxk89PTz6c5vFp9Laeh5lebqq8jmNetry28Va1ZWPkxxfajKJXySplRZSAn+87dSPpXtngDUrbUfA+m/ZIfs4tYVtHgznymjAQjPccAg9wRXjGo/6N4h1KG4nDyWi28MsjSb8lbePcSx5PJPJ9K9W+Fmlz6f4TlublGjbUrprtI3GCqFERePcRhv+BU6emKqRS0PYxaUstw85P3rfhb/AIY7Siiiu08IKKKKACiiigAooooAKKKKACiiigAooooAKKKKACiiigAooooAKKKKACiiigAooooAKKKKACiiigAooooAKKKKACiiigAooooAKKKKACmyRrLG0cihkYEMD3Bp1FAHkviHTJdO1Q2ghO1FLRuBnenYn6YOahskE1vHY2YEt5eSbCcghARjp1HBPX3PbnpPFeom81cxWXlbLBSJ5HIBYnB2rn0wPoTWV4evE0TxHFJIsbQXI2+Zj7qseCD27Zryop5dXd18a0fbX+vwPecv7Swys9YPVd9P6/E2pXvvA2jTXk5jksbeI5XdyzE/Ko4HJZvTgHvxjkr2TxdrNqb668T2enTkNImn7zEqIpCnLYxwTg5J5yCcggdd8Qmi17wjfabpztLdKqzqiqTuCHcR+QOPU1zB0OTWraHVtEiFzY3Gjx2CwxkbopQ67lI7AYJJ/wAamat7kHdep6OAlBUlWqJKTdm2ltZW32vrr5Fvwx4116DVJPDmuSW97qHlFoJInV2DjrG5XgnaCeOfXJ4pdW0+90G+h1G8BZLp/wB8ASMEEHqDz69s88VheH9Aktfi+ZZrmIraySXN06t8sRYsFj3dCxyv6+ld9431qzOmjT41juZZ/mznIjGfvZHf0/GrpVvZL285fD07+Xz/AA+RjmeHpzrRo0Iq04puy2fddl1t1XqcPcRQ299lMtbM2VwcEdMr9RmvQfBmmPFaNqV2pE1yMRqf4I+359fyrhrYvdW50+6IMlt88TF8jGDgdeR0HHr0yc16ppN/DqWmQ3NuNisMFMYKMOCp+h4rvqYKHt/rUNpa/N9fn+dzwljqn1f6pP4o6fJdP66WLlFFFanGFFFFABRRRQAUUUUAFFFFABXOf8IRpv8AwnP/AAlXn3X27/nnvXyv9V5fTbnp79a6OirjOUL8r30IlCM7cy21CqOr6Lp2u2Js9WtI7mE8hXHKn1BHIPuKvUVKbi7oppNWZ57J8FfDLzmRZ9RjXOfLWZdv05Qn9a63QPDOleGLN7bR7byVkIaRixZnPqSa1aK2niKtRcs5Noyhh6VN80IpMzfEGh23iPQ7jSr55Y4LjbuaEgMNrBhgkEdVHaq/hbwtZeEdLksNNluJYpJjMTcMrNuKqOwHGFFbVFZ+0mocl9C/Zxc+e2pl6/4esfEunix1QSNbhxIVjkKZI6Zx9ataZptro+mQafYR+Xb26bEXOeP8e9VL2HWr1SlldQaZH/faLz5T+GQqn/vquV1P4balqmWn8Z6ozsOQw+TP+6rAAe1awSlHlnOy+bM5txfNCF38kd+eetVrDT7XS7JLTT4FggQkrGgwBkkn9Sa8ju/hb4w0wmXRNfM5HOFuJIHJ9ucfrUMPiv4l+HHEOpabPeouOZ7UyDH/AF0Tr+JNdCwamv3VRPy2Od4twf7ym1+J7XWDo3gzR9A1a51HS4pYZrkMJF80lCCc/d6Dnp6VyemfE3xBeyrE3gi+kJOC8TMAPzTA/E11+nXHiHUow9/ZW+jRnqgm+0TEfXAVf/HvpWMqVWimm7J+a/Q2jVpVmmle3k/1Nuud8Q+BNA8TSedqVntucY+0Qtsc/XsfxBrogMADr9aKwhOUHeLszeUIzVpK6OAtPgz4XtpxJK19dqP+Wc0wCn/vlVP613FlZWunWiWthbx28EYwsca7QKnoqqlapV+OVyKdGnS+BWCuLuPhP4WurqW4mtrgySuXYi4YZJOTXaUUoVZ0/gdhzpwqfGrnM6P8PPDOh3K3NlpqtcKcrLO5kKn1AJwD7gZrpqKKU5zm7ydxwhGCtFWCiiioLCiiigAooooAKKKKACiiigAooooAKKKKACiiigAooooAKKKKACiiigAooooAKKKKACiiigAooooAKKKKACiiigAooooAKKKKACiiigAooooAKKKKAPmCFWudMi1SCGNdSk23qvtAPnbhKOf96vSYv7GvrbSf7N0+T+y57WfVRaWKlZbqePywsW4Y+b52JGQTsx0DVW8Y+Ar3RJbrU9Dh+16X888turAS238TbQeGTqcZyOgBHTmfCerwW7Np/iOEwaPeT+dayicq9jMwxu3qQYw2T8yn5STz8xI4sO5UqkqdTaWzPezCNLF4eFehq4K0lbp/wDtF1L+y7PQdRuNGXRdUkt7mI6GIJrl0BkUvKvkRu2CQpLFcHeuSDjOTqGvtDrEusPHJZRTRLHcrJpGphXcELG+42wAbB2993yDjbz0txpv/AAjd6da02T7RLIohuI9QuyzzqXJUJLISVbLHC52nIHHBGpFq2jeJbW40udsSTRtHPYXSmKYKcqcoeSOuGGQeoJ60sQ5UKvPyfM8SjV6xepxX/CUN/cf/AMFOpf8AyLUVnrxu9YttURJLyGzEiRRR6RqRRZs7WckWp+ZQGXHGNzZzxi59ov7VD4e83zNbWUWsMrrnzEIJW5IGONgLNjjcrKO1dYL7RfCWm2uli4+aGMJDbITNcTY77BlmJJyWx1OSarEYhcqjFX5vyO2tUlypc17+hx2u+IJrmw1LVYNJk1K+t7NLf+yUsruN5EeUMJpFkjRyqeWxUoDgluQTSaS+kz2968smo2NpNZR6pd293LKt1ZSpmJxI7nfIpEIA35zsbkggDoW0m+17WYNav5LnR2to2jtILWULMAxBJmYZDdBiPlR1O4428J411YXE82l6Fuv4llV9Uu5ZiZLt0Pywqx4wp5IGFz8vHzVvTtQpKc1byOKjSli6vsqev6Luc5fQpfWt3q13aQi+maS7zJGGMTMSwX6AYXGegr6cifzIUfGNyg49OK8V8KeCL7xalteX8Bs9DlCyN5pHmXaddgUZwp6EnBxnA5yPbawwsaiTlU6s9bNamHlKFOhtFWuFFFFdh4wUUUUAFFFFABRRRQAUUUUAFFFFABRRRQAUUUUAFFFFABRRRQAUUUUAFFFFABRRRQAUUUUAFFFFABRRRQAUUUUAFFFFABRRRQAUUUUAFZfiHVv7I0ppYl8y5kPlwRj+Jz/QdT9K1K8513XGu9ZnmWCZktQYrYLG3zf3m6Y+Y8ewHet6FPnl5Iyqz5YnPaxcm3txYI4Zy2+dwzZdvU5Pc5OPx71FZSLdWbwyyBGjBdC3c+lTJpsF1GLm8kmSeRWeRBGR8+44A+XjI/Lj1qaPSdOVd/2m5Q/LlSmcfKCf4ecciujMMJHFUPZr4ls/z+QZdjJYSvzv4Xuvy/r1Ov8Ah9NbyadPEEAuIX+Zu7K3T+R/SjW9H0NdfhEthHG10QZpIpnh3dcltjAHgd65NIoLSGRrPUp1Zl2OytsGcA7TxyCc/THNY9xe3Tzk+fNKqMfLZ2JIHr7V5FPLsSqKpe7deb/+RPWlmNBYiVaLmk+y/wApdz12TR9G03QJrdLaG2skUu2xBx/te5+uc15g0sT3M1z/AA7vkjZucH8Dx+PFQ2d7qVwzWy3ExjmG10LHDfhT5pEllhtpB5cCsFd0G4gdyD/SuDFYadbFQw6Sv5a2/BbLU9DB4iFHCzxU22n30b/F7vQzzdyLcmVHOeQfcHr+degeFdThsLyGFZCbXUQNhY9JgOe55bv7j3rkn07SVYr9rl6cPwQTj0AzjJ/T8ait50s/tNs8j+VvDxvGRkgHIGffg/UfhX2KoU1RVKC0SsfGyr1JVnVm9W7ntlFZHhnW113RY7k4E6/JMvow7/Q9a168eUXFuLPQi1JXQUUUVIwooooAKKKKACiiigAooooAKKKKACiiigAooooAKKKKACiiigAooooAKKKKACiiigAooooAKKKKACiiigAooooAKKKKACiiigAooooAKKKKACiiigAooooAKKKKACiiigAooooAKKKKACiiigAooooAKKKKACiiigAooooAKKKKACiiigAooooAKKKKACiiigBskaTRPHKoZHUqynuD1FfPGqaRN4bvX0XV1xsykEko+W6i6KwJ4J243Dsc+2fomorm1t72Aw3kEVxE3WOVAyn8DWFegq0bM9DA46eDqOUVdPdHzfZazqCwtYhW1HSLKXEFu85VlYKQVU/xxjcBsY44xkDirFtr89zuj1e/tXtwEP2TV0Em07lB2tMVDNt3NwcZ24OMgd34u+HF1DfSah4StIpIJiDLpsZWIo/QtHkhcHupI5yQecVx+o+DvFNxp0q/8I7eeSMefloixTI3BVDksSM8AH+QOMauJoz5WuZHdUw+XYun7VT5J9vM6W+g8MQ/8TK3sIbmWCzwLtbxPKwSMxbVlzu4yMKR2zWdd69pemHUbbRdU0y1jM0ctoNGgEzyckusnljgng5Y8nknBxXJFtKWUh0tlmU7DGyASBum3aRuz7YzWxpnhHxPFY708O3v2WR2eA/u1YKxzhkLBl5J4IHGOlNY2ck3CnqS8lw9OSVbEKz/AK7/AIker+LNVmtVsLYy6boss5Q75c3JVySFLgkKuSFwCTgj5u1Q6dYS6rdR6NoEYe4YBAIhlbZTxvfH3VHJ564wMk12nhf4bX1/qMV34rtEt7GBt4sJGSRrhh08zaSoQcHGSScZwAQfU7WztbGEQ2VtDbRDokMYRR+AqPY1MQ1Ou/kayx2HwClRwUb3+0M06wh0vS7TT7QbYLSFIIh6KqhR+gqzRRXefPBRRRQAUUUUAFFFFABRRRQAUUUUAFFFFABRRRQAUUUUAFFFFABRRRQAUUUUAFFFFABRRRQAUUUUAFFFFABRRRQAUUUUAFFFFABRRRQAUUUUAFFFFABRRRQBwfjDRjDffaYsJa3R/ecD5ZACc+2fX2riiMMR1we1ezanYR6nps9pN92VcA4+6ex/A15Vc2P2e78i6CxvbtsmGDg478DuP5185mGH5KnNHZn1mVYvnp8kt1+X9afcR22nSXBgiiBNzcOBEoPQepr1nStPj0vTIbSLkRryf7x7n8TXNeC9KMhOrzqAGUxWy45VQeW+vb867Cu/L8OoQ9o93+X/AATzM1xTqT9ktlv6/wDA/wAwooor1DxgooooAKKKKACiiigAooooAKKKKACiiigAooooAKKKKACiiigAooooAKKKKACiiigAooooAKKKKACiiigAooooAKKKKACiiigAooooAKKKKACiiigAooooAKKKKACiiigAooooAKKKKACiiigAooooAKKKKACiiigAooooAKKKKACiiigAooooAKKKKACiiigAooooAKKKKACiiigAooooAb5aGTzNi7x/Fjn86dRRQAUUUUAFFFFABRRRQAUUUUAFFFFABRRRQAUUUUAFFFFABRRRQAUUUUAFFFFABRRRQAUUUUAFFFFABRRRQAUUUUAFFFFABRRRQAUUUUAFFFFABRRRQAUUUUAFFFFABRRRQAVy3iXw1LqmqW1xaghZMR3RUgYQH73J69q6misqtKNaPLI2oV50J88NyOCGO2t44YV2xxqFUDsBUlFFarTRGTbbuwooooEFFFFABRRRQAUUUUAFFFFABRRRQAUUUUAFFFFABRRRQAUUUUAFFFFABRRRQAUUUUAFFFFABRRRQAUUUUAFFFFABRRRQAUUUUAFFFFABRRRQAUUUUAFFFFABRRRQAUUUUAFFFFABRRRQAUUUUAFFFFABRRRQAUUUUAFFFFABRRRQAUUUUAFFFFABRRRQAUUUUAFFFFABRRRQAUUUUAFFFFABRRRQAUUUUAFFFFABRRRQAUUUUAFFFFABRRRQAUUUUAFFFFABRRRQAUUUUAFFFFABRRRQAUUUUAFFFFABRRRQAUUUUAFFFFABRRRQAUUUUAFFFFABRRRQAUUUUAFFFFABRRRQAUUUUAFFFFABRRRQAUUUUAFFFFABRRRQB//2Q==)"
      ],
      "metadata": {
        "id": "mZE8UyHSS9U2"
      }
    },
    {
      "cell_type": "markdown",
      "source": [
        "**<div align=\"center\"><font size=\"4\">REGIONAL TRAINING</font>**\n",
        "<div align=\"center\"><font size=\"4\">Analysing permafrost in the Hindu Kush Himalaya using open access tools</font>\n",
        "\n",
        "**<h2 align='center'>Extracting MODIS Land Surface Temperature from Google Earth Engine (GEE) to point location**\n",
        "\n",
        "*This notebook is prepared for the participants of the regional training on [Analysing permafrost in the Hindu Kush Himalaya using open access tools](https://www.icimod.org/event/analysing-permafrost-in-the-hindu-kush-himalaya-using-open-access-tools/) by [ICIMOD](https://www.icimod.org/) through its [Cryosphere Initiative](https://www.icimod.org/initiative/cryosphere/) under the Regional Programme on [River Basins and Cryosphere](https://www.icimod.org/regional-programme/river-basins-and-cryosphere/) in collaboration with [Kathmandu University]() and [Tribhuvan University](http://www.tribhuvan-university.edu.np/).*\n",
        "\n",
        "*The Cryosphere Initiative is supported by the Government of Norway and Swiss Agency for Development and Cooperation.*\n",
        "\n",
        "\n",
        "Coded by: \\\n",
        "Amrit Thapa \\\n",
        "Email: amrit.thapa@icimod.org \\\n",
        "GitHub: https://github.com/amrit-thapa-2044\n",
        "\n",
        "---\n",
        "\n"
      ],
      "metadata": {
        "id": "92LDyKFAi9Bj"
      }
    },
    {
      "cell_type": "markdown",
      "source": [
        "***This exercise is conducted using the [python](https://www.python.org/) coding language.*** A [GEE](https://earthengine.google.com/) account has to be opened before executing this exercise. You can signup for GEE following this [link](https://training.eumetsat.int/mod/page/view.php?id=13074). A [Gmail](https://accounts.google.com/signup) account is required to register to GEE."
      ],
      "metadata": {
        "id": "DihWY-4VkKF2"
      }
    },
    {
      "cell_type": "markdown",
      "source": [
        "# Why to analyze Land Surface Temperature (LST) ?\n",
        "\n",
        "\n",
        "- LST is an important parameter for the energy budget of permafrost environments.\n",
        "- LST values can help distinguish between frozen and unfrozen ground."
      ],
      "metadata": {
        "id": "nel_3Dycn6K2"
      }
    },
    {
      "cell_type": "markdown",
      "source": [
        "# Authenticate GEE and initiate library\n",
        "Earth Engine Python API is installed by default in Google Colaboratory, so all that needs to be done is import it and authenticate it. "
      ],
      "metadata": {
        "id": "pcBNHLmizgt4"
      }
    },
    {
      "cell_type": "code",
      "execution_count": null,
      "metadata": {
        "id": "I4iMZiyyuVdV"
      },
      "outputs": [],
      "source": [
        "#load/import library\n",
        "import ee\n",
        "\n",
        "# Trigger the authentication flow.\n",
        "ee.Authenticate()\n",
        "\n",
        "# Initialize the library.\n",
        "ee.Initialize()"
      ]
    },
    {
      "cell_type": "markdown",
      "source": [
        "Each time that you start Colab, if you restart your Colab kernel, or if your Colab virtual machine is recycled due to inactivity, it must be done."
      ],
      "metadata": {
        "id": "nXKOVWvwmsaF"
      }
    },
    {
      "cell_type": "markdown",
      "source": [
        "Above step allows us to communicate with GEE. Now, we are set to pull data from Earth Engine's public data archive. You can explore dataset available in [Earth Engine's public data archive](https://developers.google.com/earth-engine/datasets)."
      ],
      "metadata": {
        "id": "pRtsKGxenEzf"
      }
    },
    {
      "cell_type": "markdown",
      "source": [
        "# Define user variables\n",
        "Let's define some variables to extract MODIS LST. The mandatory variables to be defined are: \n",
        "- the [sensor/satellite](https://developers.google.com/earth-engine/datasets/catalog/MODIS_006_MYD11A1#description) to be used\n",
        "- the time period to cover\n",
        "- [band/variable](https://developers.google.com/earth-engine/datasets/catalog/MODIS_006_MYD11A1) name as sensors can have more than one variable\n",
        "- latitude and longitude to use for the data extraction\n",
        "- the spatial resolution of the data (scale)"
      ],
      "metadata": {
        "id": "U-6GLGsF5WRR"
      }
    },
    {
      "cell_type": "code",
      "source": [
        "# the name of the sensor/satellite to download data\n",
        "sensor='MYD11A1' # MOD11A1 or MYD11A1\n",
        "\n",
        "# initial date of interest (inclusive).\n",
        "i_date = '2003-01-01'\n",
        "\n",
        "# Final date of interest (exclusive).\n",
        "f_date = '2020-12-31'\n",
        "\n",
        "# define variable of interest\n",
        "my_variable='LST_Night_1km' # 'LST_Day_1km' or 'LST_Night_1km'\n",
        "\n",
        "# Define the location of your interest as point geometry\n",
        "my_lon = 86\n",
        "my_lat = 28.5\n",
        "\n",
        "# spatial resolution of the product\n",
        "scale = 1000"
      ],
      "metadata": {
        "id": "FB81OuuQ5cMZ"
      },
      "execution_count": null,
      "outputs": []
    },
    {
      "cell_type": "markdown",
      "source": [
        "# Convert longitude and latitude to geometry\n",
        "In GEE the feature class (point, line and polygon ) has to be imported as a geometry object. For this exercise, we are interested in extracting data at a point location. So, let's convert longitude and latitude to a point geometry.\n",
        "\n",
        "This can be done by using ***ee.Geometry.Point*** function. It takes two arguments (*coords, proj* (optional)).\n",
        "- *coords*:\ta list of two [x,y] coordinates in the given projection.\n",
        "- *proj*:\tthe projection of this geometry, or EPSG:4326 if unspecified."
      ],
      "metadata": {
        "id": "yeRhVYYAZhUL"
      }
    },
    {
      "cell_type": "code",
      "source": [
        "my_point = ee.Geometry.Point(my_lon, my_lat)"
      ],
      "metadata": {
        "id": "xFtnWg6JdW78"
      },
      "execution_count": null,
      "outputs": []
    },
    {
      "cell_type": "markdown",
      "source": [
        "# Load image collection\n",
        "Our next step is to load the image collection (stack of images) that we want to download. This can be done by calling the ***ee.ImageCollection*** function. By pasting an asset ID into the ImageCollection constructor, an ImageCollection can be loaded from Earth Engine. The ID of the ImageCollection can be found in the [data catalog](https://developers.google.com/earth-engine/datasets/catalog). The code below loads the MODIS Aqua LST image collection."
      ],
      "metadata": {
        "id": "o_DB8Ct_zvAm"
      }
    },
    {
      "cell_type": "code",
      "source": [
        "# Import the MODIS land surface temperature collection.\n",
        "lst = ee.ImageCollection('MODIS/006/'+sensor)"
      ],
      "metadata": {
        "id": "9bLAfsouup6I"
      },
      "execution_count": null,
      "outputs": []
    },
    {
      "cell_type": "markdown",
      "source": [
        "# Filter image collection\n",
        "We would now like to select specific bands in the image collection using the ***select*** function. For the purpose of this example, we want MODIS LST data. This product has different [bands](https://developers.google.com/earth-engine/datasets/catalog/MODIS_006_MYD11A1). Now let's download LST_Night_1km band. Furthermore, we can use the ***filterDate*** function to filter dates at the same time. Each filter is connected to another using the dot (***.***) operator."
      ],
      "metadata": {
        "id": "GHvFbjckz4HC"
      }
    },
    {
      "cell_type": "code",
      "source": [
        "# Selection of appropriate bands and dates for LST.\n",
        "lst = lst.select(my_variable).filterDate(i_date, f_date)"
      ],
      "metadata": {
        "id": "FNFXKE0guvlc"
      },
      "execution_count": null,
      "outputs": []
    },
    {
      "cell_type": "markdown",
      "source": [
        "# Extract value from image collection\n",
        "In above steps, we loaded the image collection and filtered the image collection to select specific band and time slot. Now we are ready to extract the data at point location. This can be done by applying **getRegion** function.\n",
        "\n",
        "The expression for this function is \n",
        "\n",
        "*ImageCollection*.**getRegion**(*geometry, scale, crs*)\n",
        "\n",
        "- *ImageCollection*: image collection to extract data from.\n",
        "- *geometry*: region over which to extract data.\n",
        "- *scale*: nominal scale in meters of the projection to work in.\n",
        "- *crs*: projection to work in.\n"
      ],
      "metadata": {
        "id": "_MnOGpHt0JwL"
      }
    },
    {
      "cell_type": "code",
      "source": [
        "# Get the data for the pixel intersecting our point.\n",
        "lst_my_point = lst.getRegion(my_point, scale).getInfo()"
      ],
      "metadata": {
        "id": "V2EDeG9EvUAj"
      },
      "execution_count": null,
      "outputs": []
    },
    {
      "cell_type": "code",
      "source": [
        "# Preview first 6 rows of the result.\n",
        "lst_my_point[:6]"
      ],
      "metadata": {
        "id": "Uy0OP4UXuwzX"
      },
      "execution_count": null,
      "outputs": []
    },
    {
      "cell_type": "markdown",
      "source": [
        "# Convert result to dataframe\n",
        "The output is an array. We would like to plot the data using ggplot and export the output as a CSV. To do this, we need data in dataframe format. Now, let's create a function to convert the array to a dataframe. We have already discussed how to define a function in Python. "
      ],
      "metadata": {
        "id": "vKluVMex0V4-"
      }
    },
    {
      "cell_type": "code",
      "source": [
        "import pandas as pd\n",
        "\n",
        "def ee_array_to_df(arr, list_of_bands):\n",
        "    \"\"\"Transforms client-side ee.Image.getRegion array to pandas.DataFrame.\"\"\"\n",
        "    df = pd.DataFrame(arr)\n",
        "\n",
        "    # Rearrange the header.\n",
        "    headers = df.iloc[0]\n",
        "    df = pd.DataFrame(df.values[1:], columns=headers)\n",
        "\n",
        "    # Remove rows without data inside.\n",
        "    df = df[['longitude', 'latitude', 'time', *list_of_bands]].dropna()\n",
        "\n",
        "    # Convert the data to numeric values.\n",
        "    for band in list_of_bands:\n",
        "        df[band] = pd.to_numeric(df[band], errors='coerce')\n",
        "\n",
        "    # Convert the time field into a datetime.\n",
        "    df['datetime'] = pd.to_datetime(df['time'], unit='ms')\n",
        "\n",
        "    # Keep the columns of interest.\n",
        "    df = df[['time','datetime',  *list_of_bands]]\n",
        "\n",
        "    return df"
      ],
      "metadata": {
        "id": "hOIeL7p3v17X"
      },
      "execution_count": null,
      "outputs": []
    },
    {
      "cell_type": "code",
      "source": [
        "# apply function to convert array to dataframe\n",
        "lst_df_my_point = ee_array_to_df(lst_my_point,[my_variable])"
      ],
      "metadata": {
        "id": "-fj5qquM0vaj"
      },
      "execution_count": null,
      "outputs": []
    },
    {
      "cell_type": "markdown",
      "source": [
        "# Convert LST from Kelvin to Degree Celsius\n",
        "MODIS LST data are available in Kelvin with a scale factor of 0.02. But it can be easily converted to an absolute value (degrees Celsius) by using the following conversion:\n",
        "\n",
        "$LST (Degree C)= 0.02 * LST(Kelvin) - 273.15$.\n",
        " \n",
        " Let's do this.We will define a function and apply it over entire dataframe to convert Kelvin to degree Celsius.\n",
        "\n",
        "In python, we use **def** for defining a function. It uses the following components.\n",
        "\n",
        "- keyword **def** that marks the start of the function header.\n",
        "- a function name to uniquely identify the function. \n",
        "- a colon (:) to mark the end of the function header.\n",
        "- optional documentation string (docstring) to describe what the function does.\n",
        "- one or more valid python statements that make up the function body.\n",
        "- statements must have the same indentation level (usually 4 spaces).\n",
        "- optional return statement to return a value from the function.\n"
      ],
      "metadata": {
        "id": "QetD7MJI0fug"
      }
    },
    {
      "cell_type": "code",
      "source": [
        "def t_modis_to_celsius(t_modis):\n",
        "    \"\"\"Converts MODIS LST units to degrees Celsius.\"\"\"\n",
        "    t_celsius =  0.02*t_modis - 273.15\n",
        "    return t_celsius\n",
        "\n",
        "# Apply the function to get temperature in celsius.\n",
        "lst_df_my_point[my_variable] = lst_df_my_point[my_variable].apply(t_modis_to_celsius)"
      ],
      "metadata": {
        "id": "fDNbfH0Yv_5B"
      },
      "execution_count": null,
      "outputs": []
    },
    {
      "cell_type": "code",
      "source": [
        "# visualize head of the output\n",
        "lst_df_my_point.head()"
      ],
      "metadata": {
        "id": "1Km1DO0iwLib"
      },
      "execution_count": null,
      "outputs": []
    },
    {
      "cell_type": "code",
      "source": [
        "# delete first column as we have already converted time to date \n",
        "del lst_df_my_point[\"time\"]\n",
        "lst_df_my_point.head()"
      ],
      "metadata": {
        "id": "ERx91xHKzJiz"
      },
      "execution_count": null,
      "outputs": []
    },
    {
      "cell_type": "markdown",
      "source": [
        "We have already converted time to date, so we can delete the first column."
      ],
      "metadata": {
        "id": "XmdLTE8sAgny"
      }
    },
    {
      "cell_type": "markdown",
      "source": [
        "# Visualize downloaded visualization\n",
        "For this notebook, we will use the python package [plotnine](https://plotnine.readthedocs.io/). Plotnine is an implementation of a grammar of graphics in Python. This package is based on [ggplot2](https://ggplot2.tidyverse.org/) from the [R](https://cran.r-project.org/) programming language. Additionally, we use [mizani](https://mizani.readthedocs.io/), a python library that provides the function necessary to create scales for a graphics system. It is based on the R [scales](https://scales.r-lib.org/) package. The colab notebook already contains both of these packages. They just need to be loaded."
      ],
      "metadata": {
        "id": "Ty7KTiNU09XC"
      }
    },
    {
      "cell_type": "code",
      "source": [
        "# load required packages\n",
        "from plotnine import* # asterisk (*) means load all functions from plotnine\n",
        "from mizani.breaks import date_breaks\n",
        "from mizani.formatters import date_format"
      ],
      "metadata": {
        "id": "zAaH6gRw1MAD"
      },
      "execution_count": null,
      "outputs": []
    },
    {
      "cell_type": "markdown",
      "source": [
        "Let's make a plot. The ggplot funcion uses basic building blocks according to the grammar of graphics as follows\n",
        "\n",
        "- data: data + a set of aesthetic mappings that describe variables mapping\n",
        "- geom: geometric objects represent what you actually see on the plot: points, lines, polygons, etc.\n",
        " More detail about ggplot in python is [here](https://monashdatafluency.github.io/python-workshop-base/modules/plotting_with_ggpl).\n",
        "\n"
      ],
      "metadata": {
        "id": "OeE9zRokQGXN"
      }
    },
    {
      "cell_type": "code",
      "source": [
        "plot_daily_LST=(\n",
        "    ggplot(lst_df_my_point)  # What data to use\n",
        "    + geom_line(aes(x=\"datetime\", y=\"LST_Night_1km\"),colour='red')\n",
        "    +ylab('LST (degree C)')+xlab('Year')\n",
        "    + scale_x_datetime(breaks=date_breaks('2 years'), labels=date_format('%Y-%m'))\n",
        "    +ggtitle(sensor+' '+my_variable+' at lon= '+str(my_lon)+' lat ='+str(my_lat))\n",
        "    +theme(figure_size=(10, 5)) #x,y)\n",
        ")\n",
        "\n",
        "print(plot_daily_LST)"
      ],
      "metadata": {
        "id": "VMHDuybS5zsA"
      },
      "execution_count": null,
      "outputs": []
    },
    {
      "cell_type": "markdown",
      "source": [
        "# Convert daily LST to annual values (MAST)\n",
        "\n",
        "MAST (mean annual surface temperatures) is an important permafrost index, used to detect the presence of permafrost. MAST is derived by aggregating daily LST at an annual scale. \n",
        "\n",
        "Let's take a look at the daily LST conversion. This is done using the resample function. Details about the use of this function is available [here](https://www.earthdatascience.org/courses/use-data-open-source-python/use-time-series-data-in-python/date-time-types-in-pandas-python/resample-time-series-data-pandas-python/).\n",
        "\n",
        "It is necessary to convert the date to an index before using the resample function.\n"
      ],
      "metadata": {
        "id": "d3GTLmKGtyem"
      }
    },
    {
      "cell_type": "code",
      "source": [
        "# convert date colum to index\n",
        "df_lst_my_point = lst_df_my_point.set_index('datetime') \n",
        "\n",
        "# aggregate daily to annual mean values\n",
        "df_annual_LST=df_lst_my_point.resample('Y').mean()\n",
        "\n",
        "# visualize first five rows to check output dataframe\n",
        "df_annual_LST.head()"
      ],
      "metadata": {
        "id": "eTJ3ni0Fya0p"
      },
      "execution_count": null,
      "outputs": []
    },
    {
      "cell_type": "markdown",
      "source": [
        "From the above dataframe, we notice that the datetime column is no more a column but they are now row names. So, let's restructure rows name as a column and produce a plot."
      ],
      "metadata": {
        "id": "STVDu4yn892b"
      }
    },
    {
      "cell_type": "code",
      "source": [
        "# define a column name for row  <if you rerun this line you may get error, in that case run from immediate step>\n",
        "df_annual_LST.index.name = 'Year'\n",
        "\n",
        "# reset index as a column\n",
        "df_annual_LST.reset_index(inplace=True)\n",
        "\n",
        "# visualize  first five rows\n",
        "df_annual_LST.head()"
      ],
      "metadata": {
        "id": "e_TxX1gP7Emc"
      },
      "execution_count": null,
      "outputs": []
    },
    {
      "cell_type": "markdown",
      "source": [
        "Let's visualize the MAST using ggplot."
      ],
      "metadata": {
        "id": "mpzUIE8z53V3"
      }
    },
    {
      "cell_type": "code",
      "source": [
        "plot_MAAT=(\n",
        "    ggplot(df_annual_LST)  # What data to use\n",
        "    + geom_line(aes(x=\"Year\", y=\"LST_Night_1km\"),colour='red')\n",
        "    + geom_point(aes(x=\"Year\", y=\"LST_Night_1km\"),colour='blue')\n",
        "    +ylab('MAST (degree C)')+xlab('Year')\n",
        "    + scale_x_datetime(breaks=date_breaks('1 years'), labels=date_format('%Y'))\n",
        "    +ggtitle('MAST from '+sensor+' '+my_variable+' at lon= '+str(my_lon)+' lat ='+str(my_lat))\n",
        "    +theme(figure_size=(10, 5)) #x,y)\n",
        ")\n",
        "\n",
        "print(plot_MAAT)"
      ],
      "metadata": {
        "id": "wy-c7LV25_nd"
      },
      "execution_count": null,
      "outputs": []
    },
    {
      "cell_type": "markdown",
      "source": [
        "Question: Assess the magnitude and pattern of mean annual land surface temperature (MAST) and discuss how it relates with the permafrost process in a group of 3-4 participants."
      ],
      "metadata": {
        "id": "vV_HsZjxrQ6v"
      }
    },
    {
      "cell_type": "markdown",
      "source": [
        "# Export/download data to local machine\n",
        "Colab also provides a function to download data directly to the local machine. From the **google.colab** package, we can use the **files.download** function to download output.\n"
      ],
      "metadata": {
        "id": "U4oaa91-1N3o"
      }
    },
    {
      "cell_type": "code",
      "source": [
        "# load necessary files\n",
        "from google.colab import files\n",
        "\n",
        "# define output filename\n",
        "my_filename=sensor+'_'+my_variable+'_lon_'+str(my_lon)+'_lat_'+str(my_lat)+'_'+i_date+'_'+f_date+'.csv'\n",
        "print('my file name is: ',my_filename)\n",
        "\n",
        "# Convert dataframe to csv\n",
        "lst_df_my_point.to_csv(my_filename, encoding = 'utf-8-sig') \n",
        "\n",
        "# download csv\n",
        "files.download(my_filename)"
      ],
      "metadata": {
        "id": "S-0z3Fu0yon8"
      },
      "execution_count": null,
      "outputs": []
    },
    {
      "cell_type": "markdown",
      "source": [
        "It is important to evaluate the accuracy and precision of the LST products before we use them. Remote sensing and reanalysis datasets are available along with metadata. Read the metadata carefully before using the data."
      ],
      "metadata": {
        "id": "oh4y7VexodiV"
      }
    },
    {
      "cell_type": "markdown",
      "source": [
        "Assignment:\n",
        "- download MODIS LST data to your own point location over permafrost research site and convert to annual mean series (MAST).\n",
        "- make time series plot of MAST and discuss the nature of the magnitude of data in a group of 3-4 participants.\n",
        "- make a seasonal plot to understand monthly variability of daily LST data and discuss the pattern."
      ],
      "metadata": {
        "id": "6LUIg4fScKzP"
      }
    },
    {
      "cell_type": "markdown",
      "source": [
        ": <h1 align='center'>**THANK YOU**</h1>"
      ],
      "metadata": {
        "id": "_xxJIsz7jnpR"
      }
    }
  ]
}